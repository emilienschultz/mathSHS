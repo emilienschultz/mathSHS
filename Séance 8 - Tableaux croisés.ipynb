{
 "cells": [
  {
   "cell_type": "markdown",
   "metadata": {},
   "source": [
    "# Séance 8 - Tableaux croisés"
   ]
  },
  {
   "cell_type": "markdown",
   "metadata": {},
   "source": [
    "Chargement de l'ensemble des fonctions nécessaires (vu dans les séances précédentes)"
   ]
  },
  {
   "cell_type": "code",
   "execution_count": null,
   "metadata": {},
   "outputs": [],
   "source": [
    "import pandas as pd\n",
    "import matplotlib.pyplot as plt\n",
    "%matplotlib inline\n",
    "\n",
    "#Création d'une fonction qui met en forme un tableau\n",
    "def tri_a_plat(colonne):\n",
    "    effectif = colonne.value_counts().sort_index()\n",
    "    pourcentage = round(100*colonne.value_counts(normalize=True),1)\n",
    "    tableau = pd.DataFrame([effectif,pourcentage]).T\n",
    "    tableau.columns = [\"Effectif\",\"Pourcentage (%)\"]\n",
    "    return tableau\n",
    "\n",
    "#Création d'une fonction qui fait un tableau croisé\n",
    "def tableau_croise(c1,c2):\n",
    "    t_absolu = pd.crosstab(c1,c2,margins=True)\n",
    "    t_pourcentage = pd.crosstab(c1,c2)\\\n",
    "            .apply(lambda x: 100*x/sum(x),axis=1)\n",
    "    t = t_absolu.copy()\n",
    "    for i in range(0,t_pourcentage.shape[0]):\n",
    "        for j in range(0,t_pourcentage.shape[1]):\n",
    "            t.iloc[i,j] = str(t_absolu.iloc[i,j]) \\\n",
    "            +\" (\"+str(round(t_pourcentage.iloc[i,j],1))+\"%)\"\n",
    "    return t"
   ]
  },
  {
   "cell_type": "markdown",
   "metadata": {},
   "source": [
    "Chargement des données"
   ]
  },
  {
   "cell_type": "code",
   "execution_count": null,
   "metadata": {},
   "outputs": [],
   "source": [
    "url = \"https://raw.githubusercontent.com/emilienschultz/mathSHS/master/Donn%C3%A9es/enquete2011.csv\"\n",
    "enquete = pd.read_csv(url)"
   ]
  },
  {
   "cell_type": "markdown",
   "metadata": {},
   "source": [
    "## Recodage"
   ]
  },
  {
   "cell_type": "markdown",
   "metadata": {},
   "source": [
    "On se concentre sur deux variables, intérêt pour la science, et intérêt pour la politique. Est-ce qu'il y a un lien entre les deux ?"
   ]
  },
  {
   "cell_type": "code",
   "execution_count": null,
   "metadata": {},
   "outputs": [],
   "source": [
    "# Recodage intérêt politiuqe en deux catégories\n",
    "recodage = {'Assez':\"Oui\", 'Un peu':\"Oui\", 'Très peu':\"Non\", 'Beaucoup':\"Oui\",\"Pas du tout\":\"Non\"}\n",
    "enquete[\"interet_pol\"] = enquete[\"rs15\"].replace(recodage)\n",
    "tri_a_plat(enquete[\"interet_pol\"])"
   ]
  },
  {
   "cell_type": "code",
   "execution_count": null,
   "metadata": {},
   "outputs": [],
   "source": [
    "# Recodage intérêt science en deux catégories\n",
    "recodage = {'Assez':\"Oui\", 'Peu':\"Non\", 'Pas du tout':\"Non\", 'Beaucoup':\"Oui\"}\n",
    "enquete[\"interet_sci\"] = enquete[\"q2\"].replace(recodage)\n",
    "tri_a_plat(enquete[\"interet_sci\"])"
   ]
  },
  {
   "cell_type": "markdown",
   "metadata": {},
   "source": [
    "## Tableau croisé"
   ]
  },
  {
   "cell_type": "code",
   "execution_count": null,
   "metadata": {},
   "outputs": [],
   "source": [
    "tableau_croise(enquete[\"interet_pol\"],enquete[\"interet_sci\"])"
   ]
  },
  {
   "cell_type": "markdown",
   "metadata": {},
   "source": [
    "## Faire un test de chi2"
   ]
  },
  {
   "cell_type": "markdown",
   "metadata": {},
   "source": [
    "Importer la bibliothèque pour faire le test"
   ]
  },
  {
   "cell_type": "code",
   "execution_count": null,
   "metadata": {},
   "outputs": [],
   "source": [
    "from scipy.stats import chi2_contingency"
   ]
  },
  {
   "cell_type": "markdown",
   "metadata": {},
   "source": [
    "Créer le tableau des effectifs"
   ]
  },
  {
   "cell_type": "code",
   "execution_count": null,
   "metadata": {},
   "outputs": [],
   "source": [
    "tableau_brut = pd.crosstab(enquete[\"interet_pol\"],enquete[\"interet_sci\"])\n",
    "tableau_brut"
   ]
  },
  {
   "cell_type": "markdown",
   "metadata": {},
   "source": [
    "Appliquer la fonction"
   ]
  },
  {
   "cell_type": "code",
   "execution_count": null,
   "metadata": {
    "scrolled": false
   },
   "outputs": [],
   "source": [
    "chi2,p,dof,tableau_theorique =  chi2_contingency(tableau_brut)\n",
    "\n",
    "# Afficher les éléments\n",
    "print(\"La probabilité critique est \",p)\n",
    "print(\"Le degré de liberté est \",dof)\n",
    "print(\"Tableau théorique\")\n",
    "pd.DataFrame(tableau_theorique,index=tableau_brut.index,columns=tableau_brut.columns)"
   ]
  },
  {
   "cell_type": "markdown",
   "metadata": {},
   "source": [
    "Faire la différence entre les deux tableaux en proportion"
   ]
  },
  {
   "cell_type": "code",
   "execution_count": null,
   "metadata": {},
   "outputs": [],
   "source": [
    "(tableau_brut-tableau_theorique)/tableau_theorique"
   ]
  },
  {
   "cell_type": "markdown",
   "metadata": {},
   "source": [
    "## Application\n",
    "\n",
    "Faites la même analyse mais avec les 4 modalités pour chaque variable"
   ]
  }
 ],
 "metadata": {
  "kernelspec": {
   "display_name": "Python 3",
   "language": "python",
   "name": "python3"
  },
  "language_info": {
   "codemirror_mode": {
    "name": "ipython",
    "version": 3
   },
   "file_extension": ".py",
   "mimetype": "text/x-python",
   "name": "python",
   "nbconvert_exporter": "python",
   "pygments_lexer": "ipython3",
   "version": "3.7.7"
  }
 },
 "nbformat": 4,
 "nbformat_minor": 4
}
