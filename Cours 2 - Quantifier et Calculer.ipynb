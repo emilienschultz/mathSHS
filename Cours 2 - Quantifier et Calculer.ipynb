{
 "cells": [
  {
   "cell_type": "markdown",
   "metadata": {},
   "source": [
    "# Quantifier et calculer"
   ]
  },
  {
   "cell_type": "markdown",
   "metadata": {},
   "source": [
    "L'objectif est de commencer à faire quelques traitements en utilisant Python et d'utililiser les notions générales de statistiques descriptives.\n",
    "\n",
    "- Une première partie portera sur des petits exercices d'application pour prendre en main Python.\n",
    "\n",
    "- Une deuxième partie consiste à des calculs sur les données du sondage passé en amont du cours.\n",
    "\n",
    "- Une troisième partie consiste à explorer un peu plus les données."
   ]
  },
  {
   "cell_type": "markdown",
   "metadata": {},
   "source": [
    "## Chargement des données (pour information)"
   ]
  },
  {
   "cell_type": "markdown",
   "metadata": {},
   "source": [
    "Nous allons largement utiliser une bibliothèque Python qui s'appelle Pandas et permet de manipuler des fichiers Excel (une bibliothèque est un ensemble d'outils).\n",
    "\n",
    "Pandas donne des outils pour charger les données et ensuite faire des opérations.\n",
    "\n",
    "**Remarque** : le signe # permet de mettre une ligne en commentaire, elle ne sera pas exécutée"
   ]
  },
  {
   "cell_type": "code",
   "execution_count": 4,
   "metadata": {},
   "outputs": [],
   "source": [
    "#importer la bibliothèque Pandas \n",
    "#(Si elle n'existe pas, il est possible de l'installer avec la commande !pip install pandas)\n",
    "import pandas as pd\n",
    "\n",
    "#chargement des données du questionnaire à partir du dépôt\n",
    "url = \"https://raw.githubusercontent.com/emilienschultz/mathSHS/master/Donne%CC%81es/questionnaire230920.csv\"\n",
    "donnees = pd.read_csv(url)\n",
    "\n",
    "#sélection des colonnes utiles\n",
    "donnees = donnees[donnees.columns[9:]] "
   ]
  },
  {
   "cell_type": "markdown",
   "metadata": {},
   "source": [
    "Afficher les données stockées dans la variable"
   ]
  },
  {
   "cell_type": "code",
   "execution_count": 5,
   "metadata": {},
   "outputs": [
    {
     "data": {
      "text/html": [
       "<div>\n",
       "<style scoped>\n",
       "    .dataframe tbody tr th:only-of-type {\n",
       "        vertical-align: middle;\n",
       "    }\n",
       "\n",
       "    .dataframe tbody tr th {\n",
       "        vertical-align: top;\n",
       "    }\n",
       "\n",
       "    .dataframe thead th {\n",
       "        text-align: right;\n",
       "    }\n",
       "</style>\n",
       "<table border=\"1\" class=\"dataframe\">\n",
       "  <thead>\n",
       "    <tr style=\"text-align: right;\">\n",
       "      <th></th>\n",
       "      <th>Q01_age</th>\n",
       "      <th>Q02_internet</th>\n",
       "      <th>Q03_concerne-&gt;La politique actuelle</th>\n",
       "      <th>Q03_concerne-&gt;L'épidémie de COVID19</th>\n",
       "      <th>Q03_concerne-&gt;L'environnement</th>\n",
       "      <th>Q03_concerne-&gt;Les mathématiques</th>\n",
       "      <th>Q03_concerne-&gt;La technologie</th>\n",
       "      <th>Q03_concerne-&gt;La consommation de sucre</th>\n",
       "      <th>Q03_concerne-&gt;L'exploration spatiale</th>\n",
       "      <th>Q04_cinéma</th>\n",
       "      <th>...</th>\n",
       "      <th>Q06_confiance-&gt;La police</th>\n",
       "      <th>Q06_confiance-&gt;L'Assemblée nationale</th>\n",
       "      <th>Q06_confiance-&gt;L'administration</th>\n",
       "      <th>Q06_confiance-&gt;La science</th>\n",
       "      <th>Q06_confiance-&gt;Les grandes entreprises</th>\n",
       "      <th>Q06_confiance-&gt;Les associations</th>\n",
       "      <th>Q06_confiance-&gt;Le Gouvernement</th>\n",
       "      <th>Q06_confiance-&gt;Les agences gouvernementales qui contrôlent les risques liés à la santé et à l'environnement</th>\n",
       "      <th>Q07_interet</th>\n",
       "      <th>Q08_science</th>\n",
       "    </tr>\n",
       "  </thead>\n",
       "  <tbody>\n",
       "    <tr>\n",
       "      <th>0</th>\n",
       "      <td>18</td>\n",
       "      <td>5</td>\n",
       "      <td>2</td>\n",
       "      <td>5</td>\n",
       "      <td>5</td>\n",
       "      <td>3</td>\n",
       "      <td>4</td>\n",
       "      <td>4</td>\n",
       "      <td>2</td>\n",
       "      <td>5</td>\n",
       "      <td>...</td>\n",
       "      <td>4</td>\n",
       "      <td>3</td>\n",
       "      <td>3</td>\n",
       "      <td>5</td>\n",
       "      <td>3</td>\n",
       "      <td>4</td>\n",
       "      <td>4</td>\n",
       "      <td>4</td>\n",
       "      <td>1 : Beaucoup</td>\n",
       "      <td>connaissances, intelligence, chiffres, mathéma...</td>\n",
       "    </tr>\n",
       "    <tr>\n",
       "      <th>1</th>\n",
       "      <td>18</td>\n",
       "      <td>4</td>\n",
       "      <td>2</td>\n",
       "      <td>5</td>\n",
       "      <td>5</td>\n",
       "      <td>1</td>\n",
       "      <td>4</td>\n",
       "      <td>1</td>\n",
       "      <td>1</td>\n",
       "      <td>0</td>\n",
       "      <td>...</td>\n",
       "      <td>3</td>\n",
       "      <td>3</td>\n",
       "      <td>4</td>\n",
       "      <td>5</td>\n",
       "      <td>1</td>\n",
       "      <td>4</td>\n",
       "      <td>3</td>\n",
       "      <td>4</td>\n",
       "      <td>1 : Beaucoup</td>\n",
       "      <td>Le progrès, le savoir, la vérité</td>\n",
       "    </tr>\n",
       "    <tr>\n",
       "      <th>2</th>\n",
       "      <td>17</td>\n",
       "      <td>2</td>\n",
       "      <td>5</td>\n",
       "      <td>3</td>\n",
       "      <td>5</td>\n",
       "      <td>5</td>\n",
       "      <td>3</td>\n",
       "      <td>2</td>\n",
       "      <td>2</td>\n",
       "      <td>0</td>\n",
       "      <td>...</td>\n",
       "      <td>3</td>\n",
       "      <td>3</td>\n",
       "      <td>1</td>\n",
       "      <td>5</td>\n",
       "      <td>3</td>\n",
       "      <td>5</td>\n",
       "      <td>4</td>\n",
       "      <td>3</td>\n",
       "      <td>1 : Beaucoup</td>\n",
       "      <td>Lorsque je pense à la science je pense à la cu...</td>\n",
       "    </tr>\n",
       "    <tr>\n",
       "      <th>3</th>\n",
       "      <td>18</td>\n",
       "      <td>5</td>\n",
       "      <td>5</td>\n",
       "      <td>4</td>\n",
       "      <td>5</td>\n",
       "      <td>4</td>\n",
       "      <td>4</td>\n",
       "      <td>3</td>\n",
       "      <td>4</td>\n",
       "      <td>20</td>\n",
       "      <td>...</td>\n",
       "      <td>4</td>\n",
       "      <td>4</td>\n",
       "      <td>4</td>\n",
       "      <td>4</td>\n",
       "      <td>3</td>\n",
       "      <td>4</td>\n",
       "      <td>4</td>\n",
       "      <td>4</td>\n",
       "      <td>2 : Assez</td>\n",
       "      <td>L'ensemble des éléments qui viennent illustrer...</td>\n",
       "    </tr>\n",
       "    <tr>\n",
       "      <th>4</th>\n",
       "      <td>17</td>\n",
       "      <td>4</td>\n",
       "      <td>5</td>\n",
       "      <td>4</td>\n",
       "      <td>5</td>\n",
       "      <td>2</td>\n",
       "      <td>3</td>\n",
       "      <td>4</td>\n",
       "      <td>3</td>\n",
       "      <td>2</td>\n",
       "      <td>...</td>\n",
       "      <td>4</td>\n",
       "      <td>4</td>\n",
       "      <td>3</td>\n",
       "      <td>4</td>\n",
       "      <td>1</td>\n",
       "      <td>2</td>\n",
       "      <td>4</td>\n",
       "      <td>3</td>\n",
       "      <td>3 : Peu</td>\n",
       "      <td>Génétique, innovations concernant le développe...</td>\n",
       "    </tr>\n",
       "    <tr>\n",
       "      <th>5</th>\n",
       "      <td>18</td>\n",
       "      <td>3</td>\n",
       "      <td>4</td>\n",
       "      <td>5</td>\n",
       "      <td>5</td>\n",
       "      <td>2</td>\n",
       "      <td>2</td>\n",
       "      <td>1</td>\n",
       "      <td>5</td>\n",
       "      <td>0</td>\n",
       "      <td>...</td>\n",
       "      <td>2</td>\n",
       "      <td>3</td>\n",
       "      <td>2</td>\n",
       "      <td>3</td>\n",
       "      <td>1</td>\n",
       "      <td>2</td>\n",
       "      <td>2</td>\n",
       "      <td>2</td>\n",
       "      <td>2 : Assez</td>\n",
       "      <td>Un savoir qui se veut expliquer le monde, une ...</td>\n",
       "    </tr>\n",
       "    <tr>\n",
       "      <th>6</th>\n",
       "      <td>18</td>\n",
       "      <td>7</td>\n",
       "      <td>4</td>\n",
       "      <td>4</td>\n",
       "      <td>5</td>\n",
       "      <td>4</td>\n",
       "      <td>3</td>\n",
       "      <td>2</td>\n",
       "      <td>5</td>\n",
       "      <td>2</td>\n",
       "      <td>...</td>\n",
       "      <td>3</td>\n",
       "      <td>4</td>\n",
       "      <td>3</td>\n",
       "      <td>5</td>\n",
       "      <td>1</td>\n",
       "      <td>5</td>\n",
       "      <td>3</td>\n",
       "      <td>5</td>\n",
       "      <td>1 : Beaucoup</td>\n",
       "      <td>Je pense que la science est fascinante et néce...</td>\n",
       "    </tr>\n",
       "    <tr>\n",
       "      <th>7</th>\n",
       "      <td>17</td>\n",
       "      <td>5</td>\n",
       "      <td>5</td>\n",
       "      <td>5</td>\n",
       "      <td>5</td>\n",
       "      <td>3</td>\n",
       "      <td>3</td>\n",
       "      <td>1</td>\n",
       "      <td>2</td>\n",
       "      <td>1</td>\n",
       "      <td>...</td>\n",
       "      <td>3</td>\n",
       "      <td>3</td>\n",
       "      <td>4</td>\n",
       "      <td>5</td>\n",
       "      <td>2</td>\n",
       "      <td>3</td>\n",
       "      <td>4</td>\n",
       "      <td>4</td>\n",
       "      <td>1 : Beaucoup</td>\n",
       "      <td>Quand je pense à la science, j'associe ce term...</td>\n",
       "    </tr>\n",
       "    <tr>\n",
       "      <th>8</th>\n",
       "      <td>18</td>\n",
       "      <td>2</td>\n",
       "      <td>5</td>\n",
       "      <td>4</td>\n",
       "      <td>4</td>\n",
       "      <td>1</td>\n",
       "      <td>3</td>\n",
       "      <td>5</td>\n",
       "      <td>1</td>\n",
       "      <td>2</td>\n",
       "      <td>...</td>\n",
       "      <td>4</td>\n",
       "      <td>2</td>\n",
       "      <td>2</td>\n",
       "      <td>5</td>\n",
       "      <td>2</td>\n",
       "      <td>4</td>\n",
       "      <td>3</td>\n",
       "      <td>4</td>\n",
       "      <td>2 : Assez</td>\n",
       "      <td>Quand on me parle de science, je pense directe...</td>\n",
       "    </tr>\n",
       "    <tr>\n",
       "      <th>9</th>\n",
       "      <td>18</td>\n",
       "      <td>8</td>\n",
       "      <td>2</td>\n",
       "      <td>4</td>\n",
       "      <td>5</td>\n",
       "      <td>3</td>\n",
       "      <td>3</td>\n",
       "      <td>5</td>\n",
       "      <td>2</td>\n",
       "      <td>8</td>\n",
       "      <td>...</td>\n",
       "      <td>2</td>\n",
       "      <td>3</td>\n",
       "      <td>4</td>\n",
       "      <td>5</td>\n",
       "      <td>2</td>\n",
       "      <td>5</td>\n",
       "      <td>3</td>\n",
       "      <td>3</td>\n",
       "      <td>2 : Assez</td>\n",
       "      <td>Aux anomaux et aux insectes, à l'étude des éco...</td>\n",
       "    </tr>\n",
       "    <tr>\n",
       "      <th>10</th>\n",
       "      <td>17</td>\n",
       "      <td>10</td>\n",
       "      <td>4</td>\n",
       "      <td>4</td>\n",
       "      <td>5</td>\n",
       "      <td>3</td>\n",
       "      <td>2</td>\n",
       "      <td>2</td>\n",
       "      <td>3</td>\n",
       "      <td>2</td>\n",
       "      <td>...</td>\n",
       "      <td>2</td>\n",
       "      <td>3</td>\n",
       "      <td>3</td>\n",
       "      <td>4</td>\n",
       "      <td>1</td>\n",
       "      <td>4</td>\n",
       "      <td>3</td>\n",
       "      <td>1</td>\n",
       "      <td>2 : Assez</td>\n",
       "      <td>La découverte, la réalisation, les expériences...</td>\n",
       "    </tr>\n",
       "    <tr>\n",
       "      <th>11</th>\n",
       "      <td>18</td>\n",
       "      <td>6</td>\n",
       "      <td>5</td>\n",
       "      <td>4</td>\n",
       "      <td>5</td>\n",
       "      <td>1</td>\n",
       "      <td>2</td>\n",
       "      <td>2</td>\n",
       "      <td>3</td>\n",
       "      <td>4</td>\n",
       "      <td>...</td>\n",
       "      <td>3</td>\n",
       "      <td>5</td>\n",
       "      <td>4</td>\n",
       "      <td>5</td>\n",
       "      <td>3</td>\n",
       "      <td>4</td>\n",
       "      <td>5</td>\n",
       "      <td>5</td>\n",
       "      <td>2 : Assez</td>\n",
       "      <td>Application dans tous les domaines, méthode, s...</td>\n",
       "    </tr>\n",
       "    <tr>\n",
       "      <th>12</th>\n",
       "      <td>17</td>\n",
       "      <td>6</td>\n",
       "      <td>3</td>\n",
       "      <td>4</td>\n",
       "      <td>5</td>\n",
       "      <td>4</td>\n",
       "      <td>3</td>\n",
       "      <td>5</td>\n",
       "      <td>2</td>\n",
       "      <td>5</td>\n",
       "      <td>...</td>\n",
       "      <td>3</td>\n",
       "      <td>4</td>\n",
       "      <td>4</td>\n",
       "      <td>4</td>\n",
       "      <td>3</td>\n",
       "      <td>3</td>\n",
       "      <td>3</td>\n",
       "      <td>3</td>\n",
       "      <td>2 : Assez</td>\n",
       "      <td>technologie, gestion des ressources, observati...</td>\n",
       "    </tr>\n",
       "    <tr>\n",
       "      <th>13</th>\n",
       "      <td>17</td>\n",
       "      <td>2</td>\n",
       "      <td>4</td>\n",
       "      <td>4</td>\n",
       "      <td>5</td>\n",
       "      <td>2</td>\n",
       "      <td>2</td>\n",
       "      <td>3</td>\n",
       "      <td>1</td>\n",
       "      <td>3</td>\n",
       "      <td>...</td>\n",
       "      <td>5</td>\n",
       "      <td>2</td>\n",
       "      <td>3</td>\n",
       "      <td>4</td>\n",
       "      <td>2</td>\n",
       "      <td>3</td>\n",
       "      <td>4</td>\n",
       "      <td>5</td>\n",
       "      <td>3 : Peu</td>\n",
       "      <td>nécessité ; expertise ; efficacité&amp;nbsp;</td>\n",
       "    </tr>\n",
       "    <tr>\n",
       "      <th>14</th>\n",
       "      <td>18</td>\n",
       "      <td>5</td>\n",
       "      <td>3</td>\n",
       "      <td>5</td>\n",
       "      <td>5</td>\n",
       "      <td>2</td>\n",
       "      <td>3</td>\n",
       "      <td>2</td>\n",
       "      <td>1</td>\n",
       "      <td>3</td>\n",
       "      <td>...</td>\n",
       "      <td>3</td>\n",
       "      <td>3</td>\n",
       "      <td>3</td>\n",
       "      <td>4</td>\n",
       "      <td>2</td>\n",
       "      <td>3</td>\n",
       "      <td>3</td>\n",
       "      <td>3</td>\n",
       "      <td>2 : Assez</td>\n",
       "      <td>Technologie, astronomie, informatique, biologi...</td>\n",
       "    </tr>\n",
       "    <tr>\n",
       "      <th>15</th>\n",
       "      <td>18</td>\n",
       "      <td>6</td>\n",
       "      <td>5</td>\n",
       "      <td>4</td>\n",
       "      <td>5</td>\n",
       "      <td>3</td>\n",
       "      <td>2</td>\n",
       "      <td>3</td>\n",
       "      <td>3</td>\n",
       "      <td>2</td>\n",
       "      <td>...</td>\n",
       "      <td>4</td>\n",
       "      <td>3</td>\n",
       "      <td>4</td>\n",
       "      <td>5</td>\n",
       "      <td>2</td>\n",
       "      <td>2</td>\n",
       "      <td>4</td>\n",
       "      <td>4</td>\n",
       "      <td>2 : Assez</td>\n",
       "      <td>La théorie de l'évolution, le progrès, l'éthiq...</td>\n",
       "    </tr>\n",
       "    <tr>\n",
       "      <th>16</th>\n",
       "      <td>19</td>\n",
       "      <td>5</td>\n",
       "      <td>4</td>\n",
       "      <td>4</td>\n",
       "      <td>5</td>\n",
       "      <td>2</td>\n",
       "      <td>3</td>\n",
       "      <td>1</td>\n",
       "      <td>1</td>\n",
       "      <td>3</td>\n",
       "      <td>...</td>\n",
       "      <td>3</td>\n",
       "      <td>2</td>\n",
       "      <td>4</td>\n",
       "      <td>4</td>\n",
       "      <td>2</td>\n",
       "      <td>4</td>\n",
       "      <td>2</td>\n",
       "      <td>2</td>\n",
       "      <td>1 : Beaucoup</td>\n",
       "      <td>recherche ; nature ; comprendre ; remise en qu...</td>\n",
       "    </tr>\n",
       "    <tr>\n",
       "      <th>17</th>\n",
       "      <td>18</td>\n",
       "      <td>4</td>\n",
       "      <td>5</td>\n",
       "      <td>5</td>\n",
       "      <td>5</td>\n",
       "      <td>5</td>\n",
       "      <td>5</td>\n",
       "      <td>4</td>\n",
       "      <td>2</td>\n",
       "      <td>2</td>\n",
       "      <td>...</td>\n",
       "      <td>3</td>\n",
       "      <td>3</td>\n",
       "      <td>2</td>\n",
       "      <td>4</td>\n",
       "      <td>1</td>\n",
       "      <td>5</td>\n",
       "      <td>3</td>\n",
       "      <td>5</td>\n",
       "      <td>2 : Assez</td>\n",
       "      <td>La science a quelque chose de fascinant en ce ...</td>\n",
       "    </tr>\n",
       "  </tbody>\n",
       "</table>\n",
       "<p>18 rows × 23 columns</p>\n",
       "</div>"
      ],
      "text/plain": [
       "    Q01_age  Q02_internet  Q03_concerne->La politique actuelle  \\\n",
       "0        18             5                                    2   \n",
       "1        18             4                                    2   \n",
       "2        17             2                                    5   \n",
       "3        18             5                                    5   \n",
       "4        17             4                                    5   \n",
       "5        18             3                                    4   \n",
       "6        18             7                                    4   \n",
       "7        17             5                                    5   \n",
       "8        18             2                                    5   \n",
       "9        18             8                                    2   \n",
       "10       17            10                                    4   \n",
       "11       18             6                                    5   \n",
       "12       17             6                                    3   \n",
       "13       17             2                                    4   \n",
       "14       18             5                                    3   \n",
       "15       18             6                                    5   \n",
       "16       19             5                                    4   \n",
       "17       18             4                                    5   \n",
       "\n",
       "    Q03_concerne->L'épidémie de COVID19  Q03_concerne->L'environnement  \\\n",
       "0                                     5                              5   \n",
       "1                                     5                              5   \n",
       "2                                     3                              5   \n",
       "3                                     4                              5   \n",
       "4                                     4                              5   \n",
       "5                                     5                              5   \n",
       "6                                     4                              5   \n",
       "7                                     5                              5   \n",
       "8                                     4                              4   \n",
       "9                                     4                              5   \n",
       "10                                    4                              5   \n",
       "11                                    4                              5   \n",
       "12                                    4                              5   \n",
       "13                                    4                              5   \n",
       "14                                    5                              5   \n",
       "15                                    4                              5   \n",
       "16                                    4                              5   \n",
       "17                                    5                              5   \n",
       "\n",
       "    Q03_concerne->Les mathématiques  Q03_concerne->La technologie  \\\n",
       "0                                 3                             4   \n",
       "1                                 1                             4   \n",
       "2                                 5                             3   \n",
       "3                                 4                             4   \n",
       "4                                 2                             3   \n",
       "5                                 2                             2   \n",
       "6                                 4                             3   \n",
       "7                                 3                             3   \n",
       "8                                 1                             3   \n",
       "9                                 3                             3   \n",
       "10                                3                             2   \n",
       "11                                1                             2   \n",
       "12                                4                             3   \n",
       "13                                2                             2   \n",
       "14                                2                             3   \n",
       "15                                3                             2   \n",
       "16                                2                             3   \n",
       "17                                5                             5   \n",
       "\n",
       "    Q03_concerne->La consommation de sucre  \\\n",
       "0                                        4   \n",
       "1                                        1   \n",
       "2                                        2   \n",
       "3                                        3   \n",
       "4                                        4   \n",
       "5                                        1   \n",
       "6                                        2   \n",
       "7                                        1   \n",
       "8                                        5   \n",
       "9                                        5   \n",
       "10                                       2   \n",
       "11                                       2   \n",
       "12                                       5   \n",
       "13                                       3   \n",
       "14                                       2   \n",
       "15                                       3   \n",
       "16                                       1   \n",
       "17                                       4   \n",
       "\n",
       "    Q03_concerne->L'exploration spatiale  Q04_cinéma  ...  \\\n",
       "0                                      2           5  ...   \n",
       "1                                      1           0  ...   \n",
       "2                                      2           0  ...   \n",
       "3                                      4          20  ...   \n",
       "4                                      3           2  ...   \n",
       "5                                      5           0  ...   \n",
       "6                                      5           2  ...   \n",
       "7                                      2           1  ...   \n",
       "8                                      1           2  ...   \n",
       "9                                      2           8  ...   \n",
       "10                                     3           2  ...   \n",
       "11                                     3           4  ...   \n",
       "12                                     2           5  ...   \n",
       "13                                     1           3  ...   \n",
       "14                                     1           3  ...   \n",
       "15                                     3           2  ...   \n",
       "16                                     1           3  ...   \n",
       "17                                     2           2  ...   \n",
       "\n",
       "    Q06_confiance->La police  Q06_confiance->L'Assemblée nationale  \\\n",
       "0                          4                                     3   \n",
       "1                          3                                     3   \n",
       "2                          3                                     3   \n",
       "3                          4                                     4   \n",
       "4                          4                                     4   \n",
       "5                          2                                     3   \n",
       "6                          3                                     4   \n",
       "7                          3                                     3   \n",
       "8                          4                                     2   \n",
       "9                          2                                     3   \n",
       "10                         2                                     3   \n",
       "11                         3                                     5   \n",
       "12                         3                                     4   \n",
       "13                         5                                     2   \n",
       "14                         3                                     3   \n",
       "15                         4                                     3   \n",
       "16                         3                                     2   \n",
       "17                         3                                     3   \n",
       "\n",
       "    Q06_confiance->L'administration  Q06_confiance->La science  \\\n",
       "0                                 3                          5   \n",
       "1                                 4                          5   \n",
       "2                                 1                          5   \n",
       "3                                 4                          4   \n",
       "4                                 3                          4   \n",
       "5                                 2                          3   \n",
       "6                                 3                          5   \n",
       "7                                 4                          5   \n",
       "8                                 2                          5   \n",
       "9                                 4                          5   \n",
       "10                                3                          4   \n",
       "11                                4                          5   \n",
       "12                                4                          4   \n",
       "13                                3                          4   \n",
       "14                                3                          4   \n",
       "15                                4                          5   \n",
       "16                                4                          4   \n",
       "17                                2                          4   \n",
       "\n",
       "    Q06_confiance->Les grandes entreprises  Q06_confiance->Les associations  \\\n",
       "0                                        3                                4   \n",
       "1                                        1                                4   \n",
       "2                                        3                                5   \n",
       "3                                        3                                4   \n",
       "4                                        1                                2   \n",
       "5                                        1                                2   \n",
       "6                                        1                                5   \n",
       "7                                        2                                3   \n",
       "8                                        2                                4   \n",
       "9                                        2                                5   \n",
       "10                                       1                                4   \n",
       "11                                       3                                4   \n",
       "12                                       3                                3   \n",
       "13                                       2                                3   \n",
       "14                                       2                                3   \n",
       "15                                       2                                2   \n",
       "16                                       2                                4   \n",
       "17                                       1                                5   \n",
       "\n",
       "    Q06_confiance->Le Gouvernement  \\\n",
       "0                                4   \n",
       "1                                3   \n",
       "2                                4   \n",
       "3                                4   \n",
       "4                                4   \n",
       "5                                2   \n",
       "6                                3   \n",
       "7                                4   \n",
       "8                                3   \n",
       "9                                3   \n",
       "10                               3   \n",
       "11                               5   \n",
       "12                               3   \n",
       "13                               4   \n",
       "14                               3   \n",
       "15                               4   \n",
       "16                               2   \n",
       "17                               3   \n",
       "\n",
       "    Q06_confiance->Les agences gouvernementales qui contrôlent les risques liés à la santé et à l'environnement  \\\n",
       "0                                                   4                                                             \n",
       "1                                                   4                                                             \n",
       "2                                                   3                                                             \n",
       "3                                                   4                                                             \n",
       "4                                                   3                                                             \n",
       "5                                                   2                                                             \n",
       "6                                                   5                                                             \n",
       "7                                                   4                                                             \n",
       "8                                                   4                                                             \n",
       "9                                                   3                                                             \n",
       "10                                                  1                                                             \n",
       "11                                                  5                                                             \n",
       "12                                                  3                                                             \n",
       "13                                                  5                                                             \n",
       "14                                                  3                                                             \n",
       "15                                                  4                                                             \n",
       "16                                                  2                                                             \n",
       "17                                                  5                                                             \n",
       "\n",
       "     Q07_interet                                        Q08_science  \n",
       "0   1 : Beaucoup  connaissances, intelligence, chiffres, mathéma...  \n",
       "1   1 : Beaucoup                   Le progrès, le savoir, la vérité  \n",
       "2   1 : Beaucoup  Lorsque je pense à la science je pense à la cu...  \n",
       "3      2 : Assez  L'ensemble des éléments qui viennent illustrer...  \n",
       "4        3 : Peu  Génétique, innovations concernant le développe...  \n",
       "5      2 : Assez  Un savoir qui se veut expliquer le monde, une ...  \n",
       "6   1 : Beaucoup  Je pense que la science est fascinante et néce...  \n",
       "7   1 : Beaucoup  Quand je pense à la science, j'associe ce term...  \n",
       "8      2 : Assez  Quand on me parle de science, je pense directe...  \n",
       "9      2 : Assez  Aux anomaux et aux insectes, à l'étude des éco...  \n",
       "10     2 : Assez  La découverte, la réalisation, les expériences...  \n",
       "11     2 : Assez  Application dans tous les domaines, méthode, s...  \n",
       "12     2 : Assez  technologie, gestion des ressources, observati...  \n",
       "13       3 : Peu           nécessité ; expertise ; efficacité&nbsp;  \n",
       "14     2 : Assez  Technologie, astronomie, informatique, biologi...  \n",
       "15     2 : Assez  La théorie de l'évolution, le progrès, l'éthiq...  \n",
       "16  1 : Beaucoup  recherche ; nature ; comprendre ; remise en qu...  \n",
       "17     2 : Assez  La science a quelque chose de fascinant en ce ...  \n",
       "\n",
       "[18 rows x 23 columns]"
      ]
     },
     "execution_count": 5,
     "metadata": {},
     "output_type": "execute_result"
    }
   ],
   "source": [
    "donnees"
   ]
  },
  {
   "cell_type": "markdown",
   "metadata": {},
   "source": [
    "Afficher le nom des colonnes"
   ]
  },
  {
   "cell_type": "code",
   "execution_count": 37,
   "metadata": {},
   "outputs": [
    {
     "data": {
      "text/plain": [
       "Index(['age', 'internet', 'concerne_politique', 'concerne_epidemie',\n",
       "       'concerne_environnement', 'concerne_mathematiques',\n",
       "       'concerne_technologie', 'concerne_sucre', 'concerne_spatial', 'cinema',\n",
       "       'livres', 'confiance_justice', 'confiance_media', 'confiance_police',\n",
       "       'confiance_assemblee', 'confiance_administration', 'confiance_science',\n",
       "       'confiance_entreprises', 'confiance_associations',\n",
       "       'confiance_gouvernement', 'confiance_agences', 'interet_science',\n",
       "       'description_science'],\n",
       "      dtype='object')"
      ]
     },
     "execution_count": 37,
     "metadata": {},
     "output_type": "execute_result"
    }
   ],
   "source": [
    "donnees.columns"
   ]
  },
  {
   "cell_type": "markdown",
   "metadata": {},
   "source": [
    "Renommer les colonnes"
   ]
  },
  {
   "cell_type": "code",
   "execution_count": 6,
   "metadata": {},
   "outputs": [],
   "source": [
    "donnees.columns = [\"age\",\"internet\",\"concerne_politique\",\"concerne_epidemie\",\n",
    "                  \"concerne_environnement\",\"concerne_mathematiques\",\"concerne_technologie\",\n",
    "                  \"concerne_sucre\",\"concerne_spatial\",\"cinema\",\"livres\",\"confiance_justice\",\n",
    "                  \"confiance_media\",\"confiance_police\",\"confiance_assemblee\",\"confiance_administration\",\n",
    "                  \"confiance_science\",\"confiance_entreprises\",\"confiance_associations\",\"confiance_gouvernement\",\n",
    "                  \"confiance_agences\",\"interet_science\",\"description_science\"]"
   ]
  },
  {
   "cell_type": "markdown",
   "metadata": {},
   "source": [
    "Afficher une des colonnes"
   ]
  },
  {
   "cell_type": "code",
   "execution_count": 36,
   "metadata": {},
   "outputs": [
    {
     "data": {
      "text/plain": [
       "0     1\n",
       "1     5\n",
       "2     2\n",
       "3     2\n",
       "4     4\n",
       "5     3\n",
       "6     1\n",
       "7     3\n",
       "8     1\n",
       "9     4\n",
       "10    2\n",
       "11    2\n",
       "12    3\n",
       "13    2\n",
       "14    5\n",
       "Name: concerne_mathematiques, dtype: int64"
      ]
     },
     "execution_count": 36,
     "metadata": {},
     "output_type": "execute_result"
    }
   ],
   "source": [
    "donnees[\"concerne_mathematiques\"]"
   ]
  },
  {
   "cell_type": "markdown",
   "metadata": {},
   "source": [
    "## Utiliser Python pour calculer"
   ]
  },
  {
   "cell_type": "markdown",
   "metadata": {},
   "source": [
    "Exemple : arrondir des nombres avec la fonction *round*"
   ]
  },
  {
   "cell_type": "code",
   "execution_count": 2,
   "metadata": {},
   "outputs": [
    {
     "data": {
      "text/plain": [
       "10.2"
      ]
     },
     "execution_count": 2,
     "metadata": {},
     "output_type": "execute_result"
    }
   ],
   "source": [
    "nombre = 10.23232\n",
    "round(nombre,1)"
   ]
  },
  {
   "cell_type": "markdown",
   "metadata": {},
   "source": [
    "Exercice : Arrondissez à deux chiffres après la virgule."
   ]
  },
  {
   "cell_type": "markdown",
   "metadata": {},
   "source": [
    "## Calculer les données à partir du sondage"
   ]
  },
  {
   "cell_type": "markdown",
   "metadata": {},
   "source": [
    "Nous avons des données réelles, et nous voulons maintenant faire tous les calculs"
   ]
  },
  {
   "cell_type": "markdown",
   "metadata": {},
   "source": [
    "### Tracer le tri à plat de variables"
   ]
  },
  {
   "cell_type": "code",
   "execution_count": 18,
   "metadata": {},
   "outputs": [
    {
     "data": {
      "text/plain": [
       "3    3\n",
       "1    3\n",
       "4    2\n",
       "2    2\n",
       "5    1\n",
       "Name: concerne_mathematiques, dtype: int64"
      ]
     },
     "execution_count": 18,
     "metadata": {},
     "output_type": "execute_result"
    }
   ],
   "source": [
    "donnees[\"concerne_mathematiques\"].value_counts()"
   ]
  },
  {
   "cell_type": "markdown",
   "metadata": {},
   "source": [
    "Exercice : Faites la même chose pour d'autres variables"
   ]
  },
  {
   "cell_type": "markdown",
   "metadata": {},
   "source": [
    "Exercice : Calculez les proportions de chaque modalité"
   ]
  },
  {
   "cell_type": "markdown",
   "metadata": {},
   "source": [
    "Il est possible d'améliorer la présentation (vous n'avez pas besoin de comprendre le code)"
   ]
  },
  {
   "cell_type": "code",
   "execution_count": 11,
   "metadata": {},
   "outputs": [],
   "source": [
    "#Création d'une fonction qui met en forme un tableau\n",
    "def tri_a_plat(colonne):\n",
    "    effectif = colonne.value_counts().sort_index()\n",
    "    pourcentage = round(100*colonne.value_counts(normalize=True),1)\n",
    "    tableau = pd.DataFrame([effectif,pourcentage]).T\n",
    "    tableau.columns = [\"Effectif\",\"Pourcentage (%)\"]\n",
    "    return tableau"
   ]
  },
  {
   "cell_type": "markdown",
   "metadata": {},
   "source": [
    "Application de la fonction à une colonne"
   ]
  },
  {
   "cell_type": "code",
   "execution_count": 10,
   "metadata": {},
   "outputs": [
    {
     "data": {
      "text/html": [
       "<div>\n",
       "<style scoped>\n",
       "    .dataframe tbody tr th:only-of-type {\n",
       "        vertical-align: middle;\n",
       "    }\n",
       "\n",
       "    .dataframe tbody tr th {\n",
       "        vertical-align: top;\n",
       "    }\n",
       "\n",
       "    .dataframe thead th {\n",
       "        text-align: right;\n",
       "    }\n",
       "</style>\n",
       "<table border=\"1\" class=\"dataframe\">\n",
       "  <thead>\n",
       "    <tr style=\"text-align: right;\">\n",
       "      <th></th>\n",
       "      <th>Effectif</th>\n",
       "      <th>Pourcentage (%)</th>\n",
       "    </tr>\n",
       "  </thead>\n",
       "  <tbody>\n",
       "    <tr>\n",
       "      <th>1</th>\n",
       "      <td>3.0</td>\n",
       "      <td>16.7</td>\n",
       "    </tr>\n",
       "    <tr>\n",
       "      <th>2</th>\n",
       "      <td>5.0</td>\n",
       "      <td>27.8</td>\n",
       "    </tr>\n",
       "    <tr>\n",
       "      <th>3</th>\n",
       "      <td>5.0</td>\n",
       "      <td>27.8</td>\n",
       "    </tr>\n",
       "    <tr>\n",
       "      <th>4</th>\n",
       "      <td>3.0</td>\n",
       "      <td>16.7</td>\n",
       "    </tr>\n",
       "    <tr>\n",
       "      <th>5</th>\n",
       "      <td>2.0</td>\n",
       "      <td>11.1</td>\n",
       "    </tr>\n",
       "  </tbody>\n",
       "</table>\n",
       "</div>"
      ],
      "text/plain": [
       "   Effectif  Pourcentage (%)\n",
       "1       3.0             16.7\n",
       "2       5.0             27.8\n",
       "3       5.0             27.8\n",
       "4       3.0             16.7\n",
       "5       2.0             11.1"
      ]
     },
     "execution_count": 10,
     "metadata": {},
     "output_type": "execute_result"
    }
   ],
   "source": [
    "tri_a_plat(donnees[\"concerne_mathematiques\"])"
   ]
  },
  {
   "cell_type": "markdown",
   "metadata": {},
   "source": [
    "### Calculer la moyenne d'une variable numérique"
   ]
  },
  {
   "cell_type": "code",
   "execution_count": 20,
   "metadata": {},
   "outputs": [
    {
     "data": {
      "text/plain": [
       "7.5590909090909095"
      ]
     },
     "execution_count": 20,
     "metadata": {},
     "output_type": "execute_result"
    }
   ],
   "source": [
    "donnees[\"livres\"].mean()"
   ]
  },
  {
   "cell_type": "markdown",
   "metadata": {},
   "source": [
    "Exercice : Calculez les moyennes pour les autres colonnes"
   ]
  },
  {
   "cell_type": "markdown",
   "metadata": {},
   "source": [
    "Exercice : Arrondissez les résultats"
   ]
  },
  {
   "cell_type": "markdown",
   "metadata": {},
   "source": [
    "### Calculer la médiane d'une variable quantifiée"
   ]
  },
  {
   "cell_type": "code",
   "execution_count": 21,
   "metadata": {},
   "outputs": [
    {
     "data": {
      "text/plain": [
       "6.0"
      ]
     },
     "execution_count": 21,
     "metadata": {},
     "output_type": "execute_result"
    }
   ],
   "source": [
    "donnees[\"livres\"].median()"
   ]
  },
  {
   "cell_type": "markdown",
   "metadata": {},
   "source": [
    "Exercice : Comment feriez-vous à la main ?"
   ]
  },
  {
   "cell_type": "markdown",
   "metadata": {},
   "source": [
    "### Calculer l'écart-type d'une variable numérique"
   ]
  },
  {
   "cell_type": "code",
   "execution_count": 22,
   "metadata": {},
   "outputs": [
    {
     "data": {
      "text/plain": [
       "5.034720358759669"
      ]
     },
     "execution_count": 22,
     "metadata": {},
     "output_type": "execute_result"
    }
   ],
   "source": [
    "donnees[\"livres\"].std()"
   ]
  },
  {
   "cell_type": "markdown",
   "metadata": {},
   "source": [
    "Exercice : Calculez les écart-types des autres variables"
   ]
  },
  {
   "cell_type": "markdown",
   "metadata": {},
   "source": [
    "# Fin de la séance 2"
   ]
  },
  {
   "cell_type": "markdown",
   "metadata": {},
   "source": [
    "### Calculer des quantiles"
   ]
  },
  {
   "cell_type": "markdown",
   "metadata": {},
   "source": [
    "Exemple de la médiane"
   ]
  },
  {
   "cell_type": "code",
   "execution_count": 23,
   "metadata": {},
   "outputs": [
    {
     "data": {
      "text/plain": [
       "6.0"
      ]
     },
     "execution_count": 23,
     "metadata": {},
     "output_type": "execute_result"
    }
   ],
   "source": [
    "donnees[\"livres\"].quantile(0.5)"
   ]
  },
  {
   "cell_type": "markdown",
   "metadata": {},
   "source": [
    "Exemple d'un quartile"
   ]
  },
  {
   "cell_type": "code",
   "execution_count": 24,
   "metadata": {},
   "outputs": [
    {
     "data": {
      "text/plain": [
       "4.0"
      ]
     },
     "execution_count": 24,
     "metadata": {},
     "output_type": "execute_result"
    }
   ],
   "source": [
    "donnees[\"livres\"].quantile(0.25)"
   ]
  },
  {
   "cell_type": "markdown",
   "metadata": {},
   "source": [
    "Calculez tous les quartiles du temps passé sur internet, du nombre de films vus et de livres lus"
   ]
  },
  {
   "cell_type": "markdown",
   "metadata": {},
   "source": [
    "### Aller plus loin ?"
   ]
  },
  {
   "cell_type": "markdown",
   "metadata": {},
   "source": [
    "Calculez plusieurs colonnes en même temps ?"
   ]
  },
  {
   "cell_type": "code",
   "execution_count": 16,
   "metadata": {},
   "outputs": [
    {
     "data": {
      "text/plain": [
       "age       17.722222\n",
       "livres     8.619444\n",
       "dtype: float64"
      ]
     },
     "execution_count": 16,
     "metadata": {},
     "output_type": "execute_result"
    }
   ],
   "source": [
    "donnees[[\"age\",\"livres\"]].mean()"
   ]
  },
  {
   "cell_type": "markdown",
   "metadata": {},
   "source": [
    "## Aller plus loin : "
   ]
  },
  {
   "cell_type": "markdown",
   "metadata": {},
   "source": [
    "### Identifier les outlayers"
   ]
  },
  {
   "cell_type": "code",
   "execution_count": null,
   "metadata": {},
   "outputs": [],
   "source": []
  },
  {
   "cell_type": "markdown",
   "metadata": {},
   "source": [
    "### Normaliser une variable numérique"
   ]
  },
  {
   "cell_type": "markdown",
   "metadata": {},
   "source": [
    "Il est possible de faire des calculs sur les colonnes"
   ]
  },
  {
   "cell_type": "code",
   "execution_count": null,
   "metadata": {},
   "outputs": [],
   "source": []
  },
  {
   "cell_type": "markdown",
   "metadata": {},
   "source": [
    "### Recoder les variables en catégories signifiantes"
   ]
  },
  {
   "cell_type": "markdown",
   "metadata": {},
   "source": [
    "Proposer des recodages possibles pour les variables en utilisant la fonction replace."
   ]
  }
 ],
 "metadata": {
  "kernelspec": {
   "display_name": "Python 3",
   "language": "python",
   "name": "python3"
  },
  "language_info": {
   "codemirror_mode": {
    "name": "ipython",
    "version": 3
   },
   "file_extension": ".py",
   "mimetype": "text/x-python",
   "name": "python",
   "nbconvert_exporter": "python",
   "pygments_lexer": "ipython3",
   "version": "3.8.3"
  }
 },
 "nbformat": 4,
 "nbformat_minor": 4
}
