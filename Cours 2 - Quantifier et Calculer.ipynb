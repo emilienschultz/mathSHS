{
 "cells": [
  {
   "cell_type": "markdown",
   "metadata": {},
   "source": [
    "# Quantifier et calculer"
   ]
  },
  {
   "cell_type": "markdown",
   "metadata": {},
   "source": [
    "L'objectif est de commencer à faire quelques traitements en utilisant Python.\n",
    "\n",
    "Une première partie portera sur des petits exercices d'application pour prendre en main Python.\n",
    "\n",
    "Une deuxième partie consiste à des calculs sur les données du sondage passé en amont du cours.\n",
    "\n",
    "Une troisième partie consiste à explorer un peu plus les données."
   ]
  },
  {
   "cell_type": "markdown",
   "metadata": {},
   "source": [
    "## Chargement des données (pour information)"
   ]
  },
  {
   "cell_type": "markdown",
   "metadata": {},
   "source": [
    "Nous allons largement utiliser une bibliothèque Python qui s'appelle Pandas et permet de manipuler des fichiers Excel.\n",
    "\n",
    "Elle donne des outils pour charger les données et ensuite faire des opérations."
   ]
  },
  {
   "cell_type": "code",
   "execution_count": 33,
   "metadata": {},
   "outputs": [],
   "source": [
    "import pandas as pd\n",
    "\n",
    "#chargement des données du questionnaire\n",
    "donnees = pd.read_csv(\"./Données/questionnaire230920.csv\")\n",
    "\n",
    "#sélection des colonnes utiles\n",
    "donnees = donnees[donnees.columns[9:]] "
   ]
  },
  {
   "cell_type": "markdown",
   "metadata": {},
   "source": [
    "Afficher les données"
   ]
  },
  {
   "cell_type": "code",
   "execution_count": 30,
   "metadata": {},
   "outputs": [
    {
     "data": {
      "text/html": [
       "<div>\n",
       "<style scoped>\n",
       "    .dataframe tbody tr th:only-of-type {\n",
       "        vertical-align: middle;\n",
       "    }\n",
       "\n",
       "    .dataframe tbody tr th {\n",
       "        vertical-align: top;\n",
       "    }\n",
       "\n",
       "    .dataframe thead th {\n",
       "        text-align: right;\n",
       "    }\n",
       "</style>\n",
       "<table border=\"1\" class=\"dataframe\">\n",
       "  <thead>\n",
       "    <tr style=\"text-align: right;\">\n",
       "      <th></th>\n",
       "      <th>Q02_internet</th>\n",
       "      <th>Q03_concerne-&gt;La politique actuelle</th>\n",
       "      <th>Q03_concerne-&gt;L'épidémie de COVID19</th>\n",
       "      <th>Q03_concerne-&gt;L'environnement</th>\n",
       "      <th>Q03_concerne-&gt;Les mathématiques</th>\n",
       "      <th>Q03_concerne-&gt;La technologie</th>\n",
       "      <th>Q03_concerne-&gt;La consommation de sucre</th>\n",
       "      <th>Q03_concerne-&gt;L'exploration spatiale</th>\n",
       "      <th>Q04_cinéma</th>\n",
       "      <th>Q05_livres</th>\n",
       "      <th>...</th>\n",
       "      <th>Q06_confiance-&gt;La police</th>\n",
       "      <th>Q06_confiance-&gt;L'Assemblée nationale</th>\n",
       "      <th>Q06_confiance-&gt;L'administration</th>\n",
       "      <th>Q06_confiance-&gt;La science</th>\n",
       "      <th>Q06_confiance-&gt;Les grandes entreprises</th>\n",
       "      <th>Q06_confiance-&gt;Les associations</th>\n",
       "      <th>Q06_confiance-&gt;Le Gouvernement</th>\n",
       "      <th>Q06_confiance-&gt;Les agences gouvernementales qui contrôlent les risques liés à la santé et à l'environnement</th>\n",
       "      <th>Q07_interet</th>\n",
       "      <th>Q08_science</th>\n",
       "    </tr>\n",
       "  </thead>\n",
       "  <tbody>\n",
       "    <tr>\n",
       "      <th>0</th>\n",
       "      <td>4</td>\n",
       "      <td>2</td>\n",
       "      <td>5</td>\n",
       "      <td>5</td>\n",
       "      <td>1</td>\n",
       "      <td>4</td>\n",
       "      <td>1</td>\n",
       "      <td>1</td>\n",
       "      <td>0</td>\n",
       "      <td>5.00</td>\n",
       "      <td>...</td>\n",
       "      <td>3</td>\n",
       "      <td>3</td>\n",
       "      <td>4</td>\n",
       "      <td>5</td>\n",
       "      <td>1</td>\n",
       "      <td>4</td>\n",
       "      <td>3</td>\n",
       "      <td>4</td>\n",
       "      <td>1 : Beaucoup</td>\n",
       "      <td>Le progrès, le savoir, la vérité</td>\n",
       "    </tr>\n",
       "    <tr>\n",
       "      <th>1</th>\n",
       "      <td>2</td>\n",
       "      <td>5</td>\n",
       "      <td>3</td>\n",
       "      <td>5</td>\n",
       "      <td>5</td>\n",
       "      <td>3</td>\n",
       "      <td>2</td>\n",
       "      <td>2</td>\n",
       "      <td>0</td>\n",
       "      <td>6.00</td>\n",
       "      <td>...</td>\n",
       "      <td>3</td>\n",
       "      <td>3</td>\n",
       "      <td>1</td>\n",
       "      <td>5</td>\n",
       "      <td>3</td>\n",
       "      <td>5</td>\n",
       "      <td>4</td>\n",
       "      <td>3</td>\n",
       "      <td>1 : Beaucoup</td>\n",
       "      <td>Lorsque je pense à la science je pense à la cu...</td>\n",
       "    </tr>\n",
       "    <tr>\n",
       "      <th>2</th>\n",
       "      <td>4</td>\n",
       "      <td>5</td>\n",
       "      <td>4</td>\n",
       "      <td>5</td>\n",
       "      <td>2</td>\n",
       "      <td>3</td>\n",
       "      <td>4</td>\n",
       "      <td>3</td>\n",
       "      <td>2</td>\n",
       "      <td>16.00</td>\n",
       "      <td>...</td>\n",
       "      <td>4</td>\n",
       "      <td>4</td>\n",
       "      <td>3</td>\n",
       "      <td>4</td>\n",
       "      <td>1</td>\n",
       "      <td>2</td>\n",
       "      <td>4</td>\n",
       "      <td>3</td>\n",
       "      <td>3 : Peu</td>\n",
       "      <td>Génétique, innovations concernant le développe...</td>\n",
       "    </tr>\n",
       "    <tr>\n",
       "      <th>3</th>\n",
       "      <td>3</td>\n",
       "      <td>4</td>\n",
       "      <td>5</td>\n",
       "      <td>5</td>\n",
       "      <td>2</td>\n",
       "      <td>2</td>\n",
       "      <td>1</td>\n",
       "      <td>5</td>\n",
       "      <td>0</td>\n",
       "      <td>10.00</td>\n",
       "      <td>...</td>\n",
       "      <td>2</td>\n",
       "      <td>3</td>\n",
       "      <td>2</td>\n",
       "      <td>3</td>\n",
       "      <td>1</td>\n",
       "      <td>2</td>\n",
       "      <td>2</td>\n",
       "      <td>2</td>\n",
       "      <td>2 : Assez</td>\n",
       "      <td>Un savoir qui se veut expliquer le monde, une ...</td>\n",
       "    </tr>\n",
       "    <tr>\n",
       "      <th>4</th>\n",
       "      <td>7</td>\n",
       "      <td>4</td>\n",
       "      <td>4</td>\n",
       "      <td>5</td>\n",
       "      <td>4</td>\n",
       "      <td>3</td>\n",
       "      <td>2</td>\n",
       "      <td>5</td>\n",
       "      <td>2</td>\n",
       "      <td>10.15</td>\n",
       "      <td>...</td>\n",
       "      <td>3</td>\n",
       "      <td>4</td>\n",
       "      <td>3</td>\n",
       "      <td>5</td>\n",
       "      <td>1</td>\n",
       "      <td>5</td>\n",
       "      <td>3</td>\n",
       "      <td>5</td>\n",
       "      <td>1 : Beaucoup</td>\n",
       "      <td>Je pense que la science est fascinante et néce...</td>\n",
       "    </tr>\n",
       "    <tr>\n",
       "      <th>5</th>\n",
       "      <td>5</td>\n",
       "      <td>5</td>\n",
       "      <td>5</td>\n",
       "      <td>5</td>\n",
       "      <td>3</td>\n",
       "      <td>3</td>\n",
       "      <td>1</td>\n",
       "      <td>2</td>\n",
       "      <td>1</td>\n",
       "      <td>10.00</td>\n",
       "      <td>...</td>\n",
       "      <td>3</td>\n",
       "      <td>3</td>\n",
       "      <td>4</td>\n",
       "      <td>5</td>\n",
       "      <td>2</td>\n",
       "      <td>3</td>\n",
       "      <td>4</td>\n",
       "      <td>4</td>\n",
       "      <td>1 : Beaucoup</td>\n",
       "      <td>Quand je pense à la science, j'associe ce term...</td>\n",
       "    </tr>\n",
       "    <tr>\n",
       "      <th>6</th>\n",
       "      <td>2</td>\n",
       "      <td>5</td>\n",
       "      <td>4</td>\n",
       "      <td>4</td>\n",
       "      <td>1</td>\n",
       "      <td>3</td>\n",
       "      <td>5</td>\n",
       "      <td>1</td>\n",
       "      <td>2</td>\n",
       "      <td>1.00</td>\n",
       "      <td>...</td>\n",
       "      <td>4</td>\n",
       "      <td>2</td>\n",
       "      <td>2</td>\n",
       "      <td>5</td>\n",
       "      <td>2</td>\n",
       "      <td>4</td>\n",
       "      <td>3</td>\n",
       "      <td>4</td>\n",
       "      <td>2 : Assez</td>\n",
       "      <td>Quand on me parle de science, je pense directe...</td>\n",
       "    </tr>\n",
       "    <tr>\n",
       "      <th>7</th>\n",
       "      <td>8</td>\n",
       "      <td>2</td>\n",
       "      <td>4</td>\n",
       "      <td>5</td>\n",
       "      <td>3</td>\n",
       "      <td>3</td>\n",
       "      <td>5</td>\n",
       "      <td>2</td>\n",
       "      <td>8</td>\n",
       "      <td>15.00</td>\n",
       "      <td>...</td>\n",
       "      <td>2</td>\n",
       "      <td>3</td>\n",
       "      <td>4</td>\n",
       "      <td>5</td>\n",
       "      <td>2</td>\n",
       "      <td>5</td>\n",
       "      <td>3</td>\n",
       "      <td>3</td>\n",
       "      <td>2 : Assez</td>\n",
       "      <td>Aux anomaux et aux insectes, à l'étude des éco...</td>\n",
       "    </tr>\n",
       "    <tr>\n",
       "      <th>8</th>\n",
       "      <td>6</td>\n",
       "      <td>5</td>\n",
       "      <td>4</td>\n",
       "      <td>5</td>\n",
       "      <td>1</td>\n",
       "      <td>2</td>\n",
       "      <td>2</td>\n",
       "      <td>3</td>\n",
       "      <td>4</td>\n",
       "      <td>10.00</td>\n",
       "      <td>...</td>\n",
       "      <td>3</td>\n",
       "      <td>5</td>\n",
       "      <td>4</td>\n",
       "      <td>5</td>\n",
       "      <td>3</td>\n",
       "      <td>4</td>\n",
       "      <td>5</td>\n",
       "      <td>5</td>\n",
       "      <td>2 : Assez</td>\n",
       "      <td>Application dans tous les domaines, méthode, s...</td>\n",
       "    </tr>\n",
       "    <tr>\n",
       "      <th>9</th>\n",
       "      <td>6</td>\n",
       "      <td>3</td>\n",
       "      <td>4</td>\n",
       "      <td>5</td>\n",
       "      <td>4</td>\n",
       "      <td>3</td>\n",
       "      <td>5</td>\n",
       "      <td>2</td>\n",
       "      <td>5</td>\n",
       "      <td>6.00</td>\n",
       "      <td>...</td>\n",
       "      <td>3</td>\n",
       "      <td>4</td>\n",
       "      <td>4</td>\n",
       "      <td>4</td>\n",
       "      <td>3</td>\n",
       "      <td>3</td>\n",
       "      <td>3</td>\n",
       "      <td>3</td>\n",
       "      <td>2 : Assez</td>\n",
       "      <td>technologie, gestion des ressources, observati...</td>\n",
       "    </tr>\n",
       "    <tr>\n",
       "      <th>10</th>\n",
       "      <td>2</td>\n",
       "      <td>4</td>\n",
       "      <td>4</td>\n",
       "      <td>5</td>\n",
       "      <td>2</td>\n",
       "      <td>2</td>\n",
       "      <td>3</td>\n",
       "      <td>1</td>\n",
       "      <td>3</td>\n",
       "      <td>10.00</td>\n",
       "      <td>...</td>\n",
       "      <td>5</td>\n",
       "      <td>2</td>\n",
       "      <td>3</td>\n",
       "      <td>4</td>\n",
       "      <td>2</td>\n",
       "      <td>3</td>\n",
       "      <td>4</td>\n",
       "      <td>5</td>\n",
       "      <td>3 : Peu</td>\n",
       "      <td>nécessité ; expertise ; efficacité&amp;nbsp;</td>\n",
       "    </tr>\n",
       "    <tr>\n",
       "      <th>11</th>\n",
       "      <td>5</td>\n",
       "      <td>3</td>\n",
       "      <td>5</td>\n",
       "      <td>5</td>\n",
       "      <td>2</td>\n",
       "      <td>3</td>\n",
       "      <td>2</td>\n",
       "      <td>1</td>\n",
       "      <td>3</td>\n",
       "      <td>2.00</td>\n",
       "      <td>...</td>\n",
       "      <td>3</td>\n",
       "      <td>3</td>\n",
       "      <td>3</td>\n",
       "      <td>4</td>\n",
       "      <td>2</td>\n",
       "      <td>3</td>\n",
       "      <td>3</td>\n",
       "      <td>3</td>\n",
       "      <td>2 : Assez</td>\n",
       "      <td>Technologie, astronomie, informatique, biologi...</td>\n",
       "    </tr>\n",
       "    <tr>\n",
       "      <th>12</th>\n",
       "      <td>6</td>\n",
       "      <td>5</td>\n",
       "      <td>4</td>\n",
       "      <td>5</td>\n",
       "      <td>3</td>\n",
       "      <td>2</td>\n",
       "      <td>3</td>\n",
       "      <td>3</td>\n",
       "      <td>2</td>\n",
       "      <td>4.00</td>\n",
       "      <td>...</td>\n",
       "      <td>4</td>\n",
       "      <td>3</td>\n",
       "      <td>4</td>\n",
       "      <td>5</td>\n",
       "      <td>2</td>\n",
       "      <td>2</td>\n",
       "      <td>4</td>\n",
       "      <td>4</td>\n",
       "      <td>2 : Assez</td>\n",
       "      <td>La théorie de l'évolution, le progrès, l'éthiq...</td>\n",
       "    </tr>\n",
       "    <tr>\n",
       "      <th>13</th>\n",
       "      <td>5</td>\n",
       "      <td>4</td>\n",
       "      <td>4</td>\n",
       "      <td>5</td>\n",
       "      <td>2</td>\n",
       "      <td>3</td>\n",
       "      <td>1</td>\n",
       "      <td>1</td>\n",
       "      <td>3</td>\n",
       "      <td>20.00</td>\n",
       "      <td>...</td>\n",
       "      <td>3</td>\n",
       "      <td>2</td>\n",
       "      <td>4</td>\n",
       "      <td>4</td>\n",
       "      <td>2</td>\n",
       "      <td>4</td>\n",
       "      <td>2</td>\n",
       "      <td>2</td>\n",
       "      <td>1 : Beaucoup</td>\n",
       "      <td>recherche ; nature ; comprendre ; remise en qu...</td>\n",
       "    </tr>\n",
       "    <tr>\n",
       "      <th>14</th>\n",
       "      <td>4</td>\n",
       "      <td>5</td>\n",
       "      <td>5</td>\n",
       "      <td>5</td>\n",
       "      <td>5</td>\n",
       "      <td>5</td>\n",
       "      <td>4</td>\n",
       "      <td>2</td>\n",
       "      <td>2</td>\n",
       "      <td>4.00</td>\n",
       "      <td>...</td>\n",
       "      <td>3</td>\n",
       "      <td>3</td>\n",
       "      <td>2</td>\n",
       "      <td>4</td>\n",
       "      <td>1</td>\n",
       "      <td>5</td>\n",
       "      <td>3</td>\n",
       "      <td>5</td>\n",
       "      <td>2 : Assez</td>\n",
       "      <td>La science a quelque chose de fascinant en ce ...</td>\n",
       "    </tr>\n",
       "  </tbody>\n",
       "</table>\n",
       "<p>15 rows × 22 columns</p>\n",
       "</div>"
      ],
      "text/plain": [
       "    Q02_internet  Q03_concerne->La politique actuelle  \\\n",
       "0              4                                    2   \n",
       "1              2                                    5   \n",
       "2              4                                    5   \n",
       "3              3                                    4   \n",
       "4              7                                    4   \n",
       "5              5                                    5   \n",
       "6              2                                    5   \n",
       "7              8                                    2   \n",
       "8              6                                    5   \n",
       "9              6                                    3   \n",
       "10             2                                    4   \n",
       "11             5                                    3   \n",
       "12             6                                    5   \n",
       "13             5                                    4   \n",
       "14             4                                    5   \n",
       "\n",
       "    Q03_concerne->L'épidémie de COVID19  Q03_concerne->L'environnement  \\\n",
       "0                                     5                              5   \n",
       "1                                     3                              5   \n",
       "2                                     4                              5   \n",
       "3                                     5                              5   \n",
       "4                                     4                              5   \n",
       "5                                     5                              5   \n",
       "6                                     4                              4   \n",
       "7                                     4                              5   \n",
       "8                                     4                              5   \n",
       "9                                     4                              5   \n",
       "10                                    4                              5   \n",
       "11                                    5                              5   \n",
       "12                                    4                              5   \n",
       "13                                    4                              5   \n",
       "14                                    5                              5   \n",
       "\n",
       "    Q03_concerne->Les mathématiques  Q03_concerne->La technologie  \\\n",
       "0                                 1                             4   \n",
       "1                                 5                             3   \n",
       "2                                 2                             3   \n",
       "3                                 2                             2   \n",
       "4                                 4                             3   \n",
       "5                                 3                             3   \n",
       "6                                 1                             3   \n",
       "7                                 3                             3   \n",
       "8                                 1                             2   \n",
       "9                                 4                             3   \n",
       "10                                2                             2   \n",
       "11                                2                             3   \n",
       "12                                3                             2   \n",
       "13                                2                             3   \n",
       "14                                5                             5   \n",
       "\n",
       "    Q03_concerne->La consommation de sucre  \\\n",
       "0                                        1   \n",
       "1                                        2   \n",
       "2                                        4   \n",
       "3                                        1   \n",
       "4                                        2   \n",
       "5                                        1   \n",
       "6                                        5   \n",
       "7                                        5   \n",
       "8                                        2   \n",
       "9                                        5   \n",
       "10                                       3   \n",
       "11                                       2   \n",
       "12                                       3   \n",
       "13                                       1   \n",
       "14                                       4   \n",
       "\n",
       "    Q03_concerne->L'exploration spatiale  Q04_cinéma  Q05_livres  ...  \\\n",
       "0                                      1           0        5.00  ...   \n",
       "1                                      2           0        6.00  ...   \n",
       "2                                      3           2       16.00  ...   \n",
       "3                                      5           0       10.00  ...   \n",
       "4                                      5           2       10.15  ...   \n",
       "5                                      2           1       10.00  ...   \n",
       "6                                      1           2        1.00  ...   \n",
       "7                                      2           8       15.00  ...   \n",
       "8                                      3           4       10.00  ...   \n",
       "9                                      2           5        6.00  ...   \n",
       "10                                     1           3       10.00  ...   \n",
       "11                                     1           3        2.00  ...   \n",
       "12                                     3           2        4.00  ...   \n",
       "13                                     1           3       20.00  ...   \n",
       "14                                     2           2        4.00  ...   \n",
       "\n",
       "    Q06_confiance->La police  Q06_confiance->L'Assemblée nationale  \\\n",
       "0                          3                                     3   \n",
       "1                          3                                     3   \n",
       "2                          4                                     4   \n",
       "3                          2                                     3   \n",
       "4                          3                                     4   \n",
       "5                          3                                     3   \n",
       "6                          4                                     2   \n",
       "7                          2                                     3   \n",
       "8                          3                                     5   \n",
       "9                          3                                     4   \n",
       "10                         5                                     2   \n",
       "11                         3                                     3   \n",
       "12                         4                                     3   \n",
       "13                         3                                     2   \n",
       "14                         3                                     3   \n",
       "\n",
       "    Q06_confiance->L'administration  Q06_confiance->La science  \\\n",
       "0                                 4                          5   \n",
       "1                                 1                          5   \n",
       "2                                 3                          4   \n",
       "3                                 2                          3   \n",
       "4                                 3                          5   \n",
       "5                                 4                          5   \n",
       "6                                 2                          5   \n",
       "7                                 4                          5   \n",
       "8                                 4                          5   \n",
       "9                                 4                          4   \n",
       "10                                3                          4   \n",
       "11                                3                          4   \n",
       "12                                4                          5   \n",
       "13                                4                          4   \n",
       "14                                2                          4   \n",
       "\n",
       "    Q06_confiance->Les grandes entreprises  Q06_confiance->Les associations  \\\n",
       "0                                        1                                4   \n",
       "1                                        3                                5   \n",
       "2                                        1                                2   \n",
       "3                                        1                                2   \n",
       "4                                        1                                5   \n",
       "5                                        2                                3   \n",
       "6                                        2                                4   \n",
       "7                                        2                                5   \n",
       "8                                        3                                4   \n",
       "9                                        3                                3   \n",
       "10                                       2                                3   \n",
       "11                                       2                                3   \n",
       "12                                       2                                2   \n",
       "13                                       2                                4   \n",
       "14                                       1                                5   \n",
       "\n",
       "    Q06_confiance->Le Gouvernement  \\\n",
       "0                                3   \n",
       "1                                4   \n",
       "2                                4   \n",
       "3                                2   \n",
       "4                                3   \n",
       "5                                4   \n",
       "6                                3   \n",
       "7                                3   \n",
       "8                                5   \n",
       "9                                3   \n",
       "10                               4   \n",
       "11                               3   \n",
       "12                               4   \n",
       "13                               2   \n",
       "14                               3   \n",
       "\n",
       "    Q06_confiance->Les agences gouvernementales qui contrôlent les risques liés à la santé et à l'environnement  \\\n",
       "0                                                   4                                                             \n",
       "1                                                   3                                                             \n",
       "2                                                   3                                                             \n",
       "3                                                   2                                                             \n",
       "4                                                   5                                                             \n",
       "5                                                   4                                                             \n",
       "6                                                   4                                                             \n",
       "7                                                   3                                                             \n",
       "8                                                   5                                                             \n",
       "9                                                   3                                                             \n",
       "10                                                  5                                                             \n",
       "11                                                  3                                                             \n",
       "12                                                  4                                                             \n",
       "13                                                  2                                                             \n",
       "14                                                  5                                                             \n",
       "\n",
       "     Q07_interet                                        Q08_science  \n",
       "0   1 : Beaucoup                   Le progrès, le savoir, la vérité  \n",
       "1   1 : Beaucoup  Lorsque je pense à la science je pense à la cu...  \n",
       "2        3 : Peu  Génétique, innovations concernant le développe...  \n",
       "3      2 : Assez  Un savoir qui se veut expliquer le monde, une ...  \n",
       "4   1 : Beaucoup  Je pense que la science est fascinante et néce...  \n",
       "5   1 : Beaucoup  Quand je pense à la science, j'associe ce term...  \n",
       "6      2 : Assez  Quand on me parle de science, je pense directe...  \n",
       "7      2 : Assez  Aux anomaux et aux insectes, à l'étude des éco...  \n",
       "8      2 : Assez  Application dans tous les domaines, méthode, s...  \n",
       "9      2 : Assez  technologie, gestion des ressources, observati...  \n",
       "10       3 : Peu           nécessité ; expertise ; efficacité&nbsp;  \n",
       "11     2 : Assez  Technologie, astronomie, informatique, biologi...  \n",
       "12     2 : Assez  La théorie de l'évolution, le progrès, l'éthiq...  \n",
       "13  1 : Beaucoup  recherche ; nature ; comprendre ; remise en qu...  \n",
       "14     2 : Assez  La science a quelque chose de fascinant en ce ...  \n",
       "\n",
       "[15 rows x 22 columns]"
      ]
     },
     "execution_count": 30,
     "metadata": {},
     "output_type": "execute_result"
    }
   ],
   "source": [
    "donnees"
   ]
  },
  {
   "cell_type": "markdown",
   "metadata": {},
   "source": [
    "Renommer les colonnes"
   ]
  },
  {
   "cell_type": "code",
   "execution_count": 31,
   "metadata": {},
   "outputs": [
    {
     "ename": "ValueError",
     "evalue": "Length mismatch: Expected axis has 22 elements, new values have 23 elements",
     "output_type": "error",
     "traceback": [
      "\u001b[0;31m---------------------------------------------------------------------------\u001b[0m",
      "\u001b[0;31mValueError\u001b[0m                                Traceback (most recent call last)",
      "\u001b[0;32m<ipython-input-31-e3bdaa429380>\u001b[0m in \u001b[0;36m<module>\u001b[0;34m\u001b[0m\n\u001b[1;32m      4\u001b[0m                   \u001b[0;34m\"confiance_media\"\u001b[0m\u001b[0;34m,\u001b[0m\u001b[0;34m\"confiance_police\"\u001b[0m\u001b[0;34m,\u001b[0m\u001b[0;34m\"confiance_assemblee\"\u001b[0m\u001b[0;34m,\u001b[0m\u001b[0;34m\"confiance_administration\"\u001b[0m\u001b[0;34m,\u001b[0m\u001b[0;34m\u001b[0m\u001b[0;34m\u001b[0m\u001b[0m\n\u001b[1;32m      5\u001b[0m                   \u001b[0;34m\"confiance_science\"\u001b[0m\u001b[0;34m,\u001b[0m\u001b[0;34m\"confiance_entreprises\"\u001b[0m\u001b[0;34m,\u001b[0m\u001b[0;34m\"confiance_associations\"\u001b[0m\u001b[0;34m,\u001b[0m\u001b[0;34m\"confiance_gouvernement\"\u001b[0m\u001b[0;34m,\u001b[0m\u001b[0;34m\u001b[0m\u001b[0;34m\u001b[0m\u001b[0m\n\u001b[0;32m----> 6\u001b[0;31m                   \"confiance_agences\",\"interet_science\",\"description_science\"]\n\u001b[0m",
      "\u001b[0;32m~/anaconda3/envs/p37/lib/python3.7/site-packages/pandas/core/generic.py\u001b[0m in \u001b[0;36m__setattr__\u001b[0;34m(self, name, value)\u001b[0m\n\u001b[1;32m   5285\u001b[0m         \u001b[0;32mtry\u001b[0m\u001b[0;34m:\u001b[0m\u001b[0;34m\u001b[0m\u001b[0;34m\u001b[0m\u001b[0m\n\u001b[1;32m   5286\u001b[0m             \u001b[0mobject\u001b[0m\u001b[0;34m.\u001b[0m\u001b[0m__getattribute__\u001b[0m\u001b[0;34m(\u001b[0m\u001b[0mself\u001b[0m\u001b[0;34m,\u001b[0m \u001b[0mname\u001b[0m\u001b[0;34m)\u001b[0m\u001b[0;34m\u001b[0m\u001b[0;34m\u001b[0m\u001b[0m\n\u001b[0;32m-> 5287\u001b[0;31m             \u001b[0;32mreturn\u001b[0m \u001b[0mobject\u001b[0m\u001b[0;34m.\u001b[0m\u001b[0m__setattr__\u001b[0m\u001b[0;34m(\u001b[0m\u001b[0mself\u001b[0m\u001b[0;34m,\u001b[0m \u001b[0mname\u001b[0m\u001b[0;34m,\u001b[0m \u001b[0mvalue\u001b[0m\u001b[0;34m)\u001b[0m\u001b[0;34m\u001b[0m\u001b[0;34m\u001b[0m\u001b[0m\n\u001b[0m\u001b[1;32m   5288\u001b[0m         \u001b[0;32mexcept\u001b[0m \u001b[0mAttributeError\u001b[0m\u001b[0;34m:\u001b[0m\u001b[0;34m\u001b[0m\u001b[0;34m\u001b[0m\u001b[0m\n\u001b[1;32m   5289\u001b[0m             \u001b[0;32mpass\u001b[0m\u001b[0;34m\u001b[0m\u001b[0;34m\u001b[0m\u001b[0m\n",
      "\u001b[0;32mpandas/_libs/properties.pyx\u001b[0m in \u001b[0;36mpandas._libs.properties.AxisProperty.__set__\u001b[0;34m()\u001b[0m\n",
      "\u001b[0;32m~/anaconda3/envs/p37/lib/python3.7/site-packages/pandas/core/generic.py\u001b[0m in \u001b[0;36m_set_axis\u001b[0;34m(self, axis, labels)\u001b[0m\n\u001b[1;32m    659\u001b[0m \u001b[0;34m\u001b[0m\u001b[0m\n\u001b[1;32m    660\u001b[0m     \u001b[0;32mdef\u001b[0m \u001b[0m_set_axis\u001b[0m\u001b[0;34m(\u001b[0m\u001b[0mself\u001b[0m\u001b[0;34m,\u001b[0m \u001b[0maxis\u001b[0m\u001b[0;34m,\u001b[0m \u001b[0mlabels\u001b[0m\u001b[0;34m)\u001b[0m \u001b[0;34m->\u001b[0m \u001b[0;32mNone\u001b[0m\u001b[0;34m:\u001b[0m\u001b[0;34m\u001b[0m\u001b[0;34m\u001b[0m\u001b[0m\n\u001b[0;32m--> 661\u001b[0;31m         \u001b[0mself\u001b[0m\u001b[0;34m.\u001b[0m\u001b[0m_data\u001b[0m\u001b[0;34m.\u001b[0m\u001b[0mset_axis\u001b[0m\u001b[0;34m(\u001b[0m\u001b[0maxis\u001b[0m\u001b[0;34m,\u001b[0m \u001b[0mlabels\u001b[0m\u001b[0;34m)\u001b[0m\u001b[0;34m\u001b[0m\u001b[0;34m\u001b[0m\u001b[0m\n\u001b[0m\u001b[1;32m    662\u001b[0m         \u001b[0mself\u001b[0m\u001b[0;34m.\u001b[0m\u001b[0m_clear_item_cache\u001b[0m\u001b[0;34m(\u001b[0m\u001b[0;34m)\u001b[0m\u001b[0;34m\u001b[0m\u001b[0;34m\u001b[0m\u001b[0m\n\u001b[1;32m    663\u001b[0m \u001b[0;34m\u001b[0m\u001b[0m\n",
      "\u001b[0;32m~/anaconda3/envs/p37/lib/python3.7/site-packages/pandas/core/internals/managers.py\u001b[0m in \u001b[0;36mset_axis\u001b[0;34m(self, axis, new_labels)\u001b[0m\n\u001b[1;32m    176\u001b[0m         \u001b[0;32mif\u001b[0m \u001b[0mnew_len\u001b[0m \u001b[0;34m!=\u001b[0m \u001b[0mold_len\u001b[0m\u001b[0;34m:\u001b[0m\u001b[0;34m\u001b[0m\u001b[0;34m\u001b[0m\u001b[0m\n\u001b[1;32m    177\u001b[0m             raise ValueError(\n\u001b[0;32m--> 178\u001b[0;31m                 \u001b[0;34mf\"Length mismatch: Expected axis has {old_len} elements, new \"\u001b[0m\u001b[0;34m\u001b[0m\u001b[0;34m\u001b[0m\u001b[0m\n\u001b[0m\u001b[1;32m    179\u001b[0m                 \u001b[0;34mf\"values have {new_len} elements\"\u001b[0m\u001b[0;34m\u001b[0m\u001b[0;34m\u001b[0m\u001b[0m\n\u001b[1;32m    180\u001b[0m             )\n",
      "\u001b[0;31mValueError\u001b[0m: Length mismatch: Expected axis has 22 elements, new values have 23 elements"
     ]
    }
   ],
   "source": [
    "donnees.columns = [\"age\",\"internet\",\"concerne_politique\",\"concerne_epidemie\",\n",
    "                  \"concerne_environnement\",\"concerne_mathematiques\",\"concerne_technologie\",\n",
    "                  \"concerne_sucre\",\"concerne_spatial\",\"cinema\",\"livres\",\"confiance_justice\",\n",
    "                  \"confiance_media\",\"confiance_police\",\"confiance_assemblee\",\"confiance_administration\",\n",
    "                  \"confiance_science\",\"confiance_entreprises\",\"confiance_associations\",\"confiance_gouvernement\",\n",
    "                  \"confiance_agences\",\"interet_science\",\"description_science\"]"
   ]
  },
  {
   "cell_type": "markdown",
   "metadata": {},
   "source": [
    "Afficher une des colonnes"
   ]
  },
  {
   "cell_type": "code",
   "execution_count": 19,
   "metadata": {},
   "outputs": [
    {
     "data": {
      "text/plain": [
       "0     1\n",
       "1     2\n",
       "2     4\n",
       "3     3\n",
       "4     1\n",
       "5     3\n",
       "6     1\n",
       "7     4\n",
       "8     2\n",
       "9     3\n",
       "10    5\n",
       "Name: concerne_mathematiques, dtype: int64"
      ]
     },
     "execution_count": 19,
     "metadata": {},
     "output_type": "execute_result"
    }
   ],
   "source": [
    "donnees[\"concerne_mathematiques\"]"
   ]
  },
  {
   "cell_type": "markdown",
   "metadata": {},
   "source": [
    "## Utiliser Python pour calculer"
   ]
  },
  {
   "cell_type": "markdown",
   "metadata": {},
   "source": [
    "Arrondir des nombres avec la fonction *round*"
   ]
  },
  {
   "cell_type": "code",
   "execution_count": 2,
   "metadata": {},
   "outputs": [
    {
     "data": {
      "text/plain": [
       "10.2"
      ]
     },
     "execution_count": 2,
     "metadata": {},
     "output_type": "execute_result"
    }
   ],
   "source": [
    "nombre = 10.23232\n",
    "round(nombre,1)"
   ]
  },
  {
   "cell_type": "markdown",
   "metadata": {},
   "source": [
    "Arrondissez à deux chiffres après la virgule."
   ]
  },
  {
   "cell_type": "markdown",
   "metadata": {},
   "source": [
    "## Calculer les données à partir du sondage"
   ]
  },
  {
   "cell_type": "markdown",
   "metadata": {},
   "source": [
    "### Tracer le tri à plat de variables"
   ]
  },
  {
   "cell_type": "code",
   "execution_count": 18,
   "metadata": {},
   "outputs": [
    {
     "data": {
      "text/plain": [
       "3    3\n",
       "1    3\n",
       "4    2\n",
       "2    2\n",
       "5    1\n",
       "Name: concerne_mathematiques, dtype: int64"
      ]
     },
     "execution_count": 18,
     "metadata": {},
     "output_type": "execute_result"
    }
   ],
   "source": [
    "donnees[\"concerne_mathematiques\"].value_counts()"
   ]
  },
  {
   "cell_type": "markdown",
   "metadata": {},
   "source": [
    "Faites la même chose pour d'autres variables"
   ]
  },
  {
   "cell_type": "markdown",
   "metadata": {},
   "source": [
    "Calculez les proportions ..."
   ]
  },
  {
   "cell_type": "markdown",
   "metadata": {},
   "source": [
    "### Calculer la moyenne d'une variable numérique"
   ]
  },
  {
   "cell_type": "code",
   "execution_count": 20,
   "metadata": {},
   "outputs": [
    {
     "data": {
      "text/plain": [
       "7.5590909090909095"
      ]
     },
     "execution_count": 20,
     "metadata": {},
     "output_type": "execute_result"
    }
   ],
   "source": [
    "donnees[\"livres\"].mean()"
   ]
  },
  {
   "cell_type": "markdown",
   "metadata": {},
   "source": [
    "Faites d'autres moyennes"
   ]
  },
  {
   "cell_type": "markdown",
   "metadata": {},
   "source": [
    "Calculez là à la main..."
   ]
  },
  {
   "cell_type": "markdown",
   "metadata": {},
   "source": [
    "Arrondissez les résultats"
   ]
  },
  {
   "cell_type": "markdown",
   "metadata": {},
   "source": [
    "### Calculer la médiane d'une variable quantifiée"
   ]
  },
  {
   "cell_type": "code",
   "execution_count": 21,
   "metadata": {},
   "outputs": [
    {
     "data": {
      "text/plain": [
       "6.0"
      ]
     },
     "execution_count": 21,
     "metadata": {},
     "output_type": "execute_result"
    }
   ],
   "source": [
    "donnees[\"livres\"].median()"
   ]
  },
  {
   "cell_type": "markdown",
   "metadata": {},
   "source": [
    "Vérifiez à la main pour une variable"
   ]
  },
  {
   "cell_type": "markdown",
   "metadata": {},
   "source": [
    "### Calculer l'écart-type d'une variable numérique"
   ]
  },
  {
   "cell_type": "code",
   "execution_count": 22,
   "metadata": {},
   "outputs": [
    {
     "data": {
      "text/plain": [
       "5.034720358759669"
      ]
     },
     "execution_count": 22,
     "metadata": {},
     "output_type": "execute_result"
    }
   ],
   "source": [
    "donnees[\"livres\"].std()"
   ]
  },
  {
   "cell_type": "markdown",
   "metadata": {},
   "source": [
    "### Calculer des quantiles"
   ]
  },
  {
   "cell_type": "markdown",
   "metadata": {},
   "source": [
    "Exemple de la médiane"
   ]
  },
  {
   "cell_type": "code",
   "execution_count": 23,
   "metadata": {},
   "outputs": [
    {
     "data": {
      "text/plain": [
       "6.0"
      ]
     },
     "execution_count": 23,
     "metadata": {},
     "output_type": "execute_result"
    }
   ],
   "source": [
    "donnees[\"livres\"].quantile(0.5)"
   ]
  },
  {
   "cell_type": "markdown",
   "metadata": {},
   "source": [
    "Exemple d'un quartile"
   ]
  },
  {
   "cell_type": "code",
   "execution_count": 24,
   "metadata": {},
   "outputs": [
    {
     "data": {
      "text/plain": [
       "4.0"
      ]
     },
     "execution_count": 24,
     "metadata": {},
     "output_type": "execute_result"
    }
   ],
   "source": [
    "donnees[\"livres\"].quantile(0.25)"
   ]
  },
  {
   "cell_type": "markdown",
   "metadata": {},
   "source": [
    "Calculez tous les quartiles du temps passé sur internet, du nombre de films vus et de livres lus"
   ]
  },
  {
   "cell_type": "markdown",
   "metadata": {},
   "source": [
    "## Aller plus loin : "
   ]
  },
  {
   "cell_type": "markdown",
   "metadata": {},
   "source": [
    "### Identifier les outlayers"
   ]
  },
  {
   "cell_type": "code",
   "execution_count": null,
   "metadata": {},
   "outputs": [],
   "source": []
  },
  {
   "cell_type": "markdown",
   "metadata": {},
   "source": [
    "### Normaliser une variable numérique"
   ]
  },
  {
   "cell_type": "code",
   "execution_count": null,
   "metadata": {},
   "outputs": [],
   "source": []
  },
  {
   "cell_type": "markdown",
   "metadata": {},
   "source": [
    "### Recoder les variables en catégories signifiantes"
   ]
  },
  {
   "cell_type": "markdown",
   "metadata": {},
   "source": [
    "Proposer des recodages possibles pour les variables"
   ]
  }
 ],
 "metadata": {
  "kernelspec": {
   "display_name": "Python 3",
   "language": "python",
   "name": "python3"
  },
  "language_info": {
   "codemirror_mode": {
    "name": "ipython",
    "version": 3
   },
   "file_extension": ".py",
   "mimetype": "text/x-python",
   "name": "python",
   "nbconvert_exporter": "python",
   "pygments_lexer": "ipython3",
   "version": "3.7.7"
  }
 },
 "nbformat": 4,
 "nbformat_minor": 4
}
