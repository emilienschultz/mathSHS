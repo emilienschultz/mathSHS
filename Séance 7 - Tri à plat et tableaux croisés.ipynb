{
 "cells": [
  {
   "cell_type": "markdown",
   "metadata": {},
   "source": [
    "# Séance 7 - Tri à plat et tableau croisé"
   ]
  },
  {
   "cell_type": "markdown",
   "metadata": {},
   "source": [
    "Chargement de l'ensemble des fonctions nécessaires"
   ]
  },
  {
   "cell_type": "code",
   "execution_count": null,
   "metadata": {},
   "outputs": [],
   "source": [
    "import pandas as pd\n",
    "import matplotlib.pyplot as plt\n",
    "%matplotlib inline\n",
    "\n",
    "#Création d'une fonction qui met en forme un tableau\n",
    "def tri_a_plat(colonne):\n",
    "    effectif = colonne.value_counts().sort_index()\n",
    "    pourcentage = round(100*colonne.value_counts(normalize=True),1)\n",
    "    tableau = pd.DataFrame([effectif,pourcentage]).T\n",
    "    tableau.columns = [\"Effectif\",\"Pourcentage (%)\"]\n",
    "    return tableau\n",
    "\n",
    "#Création d'une fonction qui fait un tableau croisé\n",
    "def tableau_croise(c1,c2):\n",
    "    t_absolu = pd.crosstab(c1,c2,margins=True)\n",
    "    t_pourcentage = pd.crosstab(c1,c2)\\\n",
    "            .apply(lambda x: 100*x/sum(x),axis=1)\n",
    "    t = t_absolu.copy()\n",
    "    for i in range(0,t_pourcentage.shape[0]):\n",
    "        for j in range(0,t_pourcentage.shape[1]):\n",
    "            t.iloc[i,j] = str(t_absolu.iloc[i,j]) \\\n",
    "            +\" (\"+str(round(t_pourcentage.iloc[i,j],1))+\"%)\"\n",
    "    return t"
   ]
  },
  {
   "cell_type": "markdown",
   "metadata": {},
   "source": [
    "Chargement des données"
   ]
  },
  {
   "cell_type": "code",
   "execution_count": null,
   "metadata": {},
   "outputs": [],
   "source": [
    "#enquete = pd.read_csv(\"../mathSHS/Données/enquete2011.csv\")\n",
    "url = \"https://raw.githubusercontent.com/emilienschultz/mathSHS/master/Donn%C3%A9es/enquete2011.csv\"\n",
    "enquete = pd.read_csv(url)\n",
    "    \n",
    "print(list(enquete.columns))"
   ]
  },
  {
   "cell_type": "markdown",
   "metadata": {},
   "source": [
    "Variables d'intérêt\n",
    "\n",
    "- confiance dans la science q1_6\n",
    "- intérêt dans la sciences q2\n",
    "- intérêt politique rs15\n",
    "- positionnement politique rs16\n",
    "- religion rs17\n",
    "- niveau d'étude nivet6\n",
    "- revenu rs14\n",
    "- PCS pp18"
   ]
  },
  {
   "cell_type": "markdown",
   "metadata": {},
   "source": [
    "## Tri à plat"
   ]
  },
  {
   "cell_type": "code",
   "execution_count": null,
   "metadata": {},
   "outputs": [],
   "source": [
    "tri_a_plat(enquete[\"q1_6\"])"
   ]
  },
  {
   "cell_type": "markdown",
   "metadata": {},
   "source": [
    "Attention pour les variables manquantes"
   ]
  },
  {
   "cell_type": "code",
   "execution_count": null,
   "metadata": {},
   "outputs": [],
   "source": [
    "tri_a_plat(enquete[\"q2\"])"
   ]
  },
  {
   "cell_type": "markdown",
   "metadata": {},
   "source": [
    "## Recodage"
   ]
  },
  {
   "cell_type": "code",
   "execution_count": null,
   "metadata": {},
   "outputs": [],
   "source": [
    "recodage = {'Plutôt confiance':\"Confiance\", 'Très confiance':\"Confiance\", 'Plutôt pas confiance':\"Pas confiance\",\n",
    "       'Pas du tout confiance':\"Pas confiance\"}\n",
    "\n",
    "enquete[\"confiance\"] = enquete[\"q1_6\"].replace(recodage).fillna(\"Pas de réponse\")"
   ]
  },
  {
   "cell_type": "code",
   "execution_count": null,
   "metadata": {},
   "outputs": [],
   "source": [
    "tri_a_plat(enquete[\"confiance\"])"
   ]
  },
  {
   "cell_type": "code",
   "execution_count": null,
   "metadata": {},
   "outputs": [],
   "source": [
    "recodage = {'Assez':\"Oui\", 'Peu':\"Non\", 'Pas du tout':\"Non\", 'Beaucoup':\"Oui\"}\n",
    "enquete[\"interet\"] = enquete[\"q2\"].replace(recodage)\n",
    "tri_a_plat(enquete[\"interet\"])"
   ]
  },
  {
   "cell_type": "code",
   "execution_count": null,
   "metadata": {},
   "outputs": [],
   "source": [
    "recodage = {'Assez':\"Oui\", 'Un peu':\"Oui\", 'Très peu':\"Non\", 'Beaucoup':\"Oui\",\"Pas du tout\":\"Non\"}\n",
    "enquete[\"interet_pol\"] = enquete[\"rs15\"].replace(recodage)\n",
    "tri_a_plat(enquete[\"interet_pol\"])"
   ]
  },
  {
   "cell_type": "markdown",
   "metadata": {},
   "source": [
    "## Tableau croisé"
   ]
  },
  {
   "cell_type": "code",
   "execution_count": null,
   "metadata": {},
   "outputs": [],
   "source": [
    "tableau_croise(enquete[\"interet_pol\"],enquete[\"interet\"])"
   ]
  }
 ],
 "metadata": {
  "kernelspec": {
   "display_name": "Python 3",
   "language": "python",
   "name": "python3"
  },
  "language_info": {
   "codemirror_mode": {
    "name": "ipython",
    "version": 3
   },
   "file_extension": ".py",
   "mimetype": "text/x-python",
   "name": "python",
   "nbconvert_exporter": "python",
   "pygments_lexer": "ipython3",
   "version": "3.7.7"
  }
 },
 "nbformat": 4,
 "nbformat_minor": 4
}
