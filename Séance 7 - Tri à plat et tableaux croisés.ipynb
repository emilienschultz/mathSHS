{
 "cells": [
  {
   "cell_type": "markdown",
   "metadata": {},
   "source": [
    "# Séance 7 - Tri à plat et tableau croisé"
   ]
  },
  {
   "cell_type": "markdown",
   "metadata": {},
   "source": [
    "Chargement de l'ensemble des fonctions nécessaires"
   ]
  },
  {
   "cell_type": "code",
   "execution_count": 2,
   "metadata": {},
   "outputs": [],
   "source": [
    "import pandas as pd\n",
    "import matplotlib.pyplot as plt\n",
    "%matplotlib inline\n",
    "\n",
    "#Création d'une fonction qui met en forme un tableau\n",
    "def tri_a_plat(colonne):\n",
    "    effectif = colonne.value_counts().sort_index()\n",
    "    pourcentage = round(100*colonne.value_counts(normalize=True),1)\n",
    "    tableau = pd.DataFrame([effectif,pourcentage]).T\n",
    "    tableau.columns = [\"Effectif\",\"Pourcentage (%)\"]\n",
    "    return tableau\n",
    "\n",
    "#Création d'une fonction qui fait un tableau croisé\n",
    "def tableau_croise(c1,c2):\n",
    "    t_absolu = pd.crosstab(c1,c2,margins=True)\n",
    "    t_pourcentage = pd.crosstab(c1,c2)\\\n",
    "            .apply(lambda x: 100*x/sum(x),axis=1)\n",
    "    t = t_absolu.copy()\n",
    "    for i in range(0,t_pourcentage.shape[0]):\n",
    "        for j in range(0,t_pourcentage.shape[1]):\n",
    "            t.iloc[i,j] = str(t_absolu.iloc[i,j]) \\\n",
    "            +\" (\"+str(round(t_pourcentage.iloc[i,j],1))+\"%)\"\n",
    "    return t"
   ]
  },
  {
   "cell_type": "markdown",
   "metadata": {},
   "source": [
    "Chargement des données"
   ]
  },
  {
   "cell_type": "code",
   "execution_count": 3,
   "metadata": {},
   "outputs": [
    {
     "name": "stdout",
     "output_type": "stream",
     "text": [
      "['Unnamed: 0', 'ident', 'poids1', 'in06', 'regsof', 'habp', 'rs1', 'rs2', 'age', 'rs3', 'rs5', 'rs6', 'pcsip', 'rs6b', 'rs7', 'rs7b', 'pcsp', 'rs9', 'rs9b', 'rs69b', 'q1_1', 'q1_2', 'q1_3', 'q1_4', 'q1_5', 'q1_6', 'q1_7', 'q1_8', 'q1_9', 'q1_10', 'q2', 'm_q29_1', 'm_q29_2', 'm_q29_3', 'm_q29_4', 'm_q29_5', 'm_q29_6', 'm_q29_7', 'm_q29_8', 'm_q29_9', 'm_q29_10', 'm_q29_11', 'm_q29_12', 'm_q29_13', 'm_q29_14', 'm_q29_15', 'm_q29_16', 'm_q29_17', 'm_q29_18', 'm_q29_19', 'm_q29_20', 'm_q29_21', 'm_q29_22', 'm_q29_23', 'm_q29_24', 'm_q29_25', 'm_q29_26', 'm_q29_27', 'm_q29_28', 'm_q29_29', 'q3_1', 'q3_2', 'q3_3', 'q3_4', 'q3_5', 'q3_6', 'q3_7', 'q3_8', 'q3_9', 'q3_10', 'q3_11', 'q4', 'q5_1', 'q5_2', 'q5_3', 'q5_4', 'q6_1', 'q6_2', 'q6_3', 'q6_4', 'q6_5', 'q6_6', 'q6_7', 'q6_8', 'q7', 'q8', 'q10', 'q11', 'q12', 'q13', 'q14_1', 'q14_2', 'q15', 'q16_1', 'q16_2', 'q16_3', 'q16_4', 'q16_5', 'q31', 'q17', 'q18', 'q19', 'q20', 'q21_1', 'q21_2', 'q21_3', 'q21_4', 'q21_5', 'q21_6', 'q21_7', 'q21_8', 'q22', 'q22bis', 'm_q2222b_1', 'm_q2222b_2', 'm_q2222b_3', 'm_q2222b_4', 'm_q2222b_5', 'm_q2222b_6', 'q23', 'q24_1', 'q24_2', 'q24_3', 'q24_4', 'q24_5', 'q24_6', 'q25', 'q25bis', 'q26', 'q9', 'q27_1', 'q27_2', 'q27_3', 'q27_4', 'q27_5', 'q27_6', 'splitQ28', 'q28', 'q28bis', 'm_q2828b_1', 'm_q2828b_2', 'm_q2828b_3', 'm_q2828b_4', 'm_q2828b_5', 'm_q2828b_6', 'm_q2828b_7', 'q54a', 'q54_1', 'q54_2', 'q54_3', 'q54_4', 'q54_5', 'q54_6', 'q54_7', 'q54_8', 'q54_9', 'q54_10', 'q54_11', 'degre', 'rs16a', 'rs10b', 'rs11', 'rs14', 'rs101', 'rs102', 'rs15', 'rs16', 'rs11a', 'rs17', 'rs18b', 'relig', 'rs20', 'formation', 'nivet6', 'nivet5', 'cns11', 'cns4', 'PPI13', 'PPI8', 'intedom', 'infonuc', 'imache', 'RecQ7', 'RecQ8', 'recQ9', 'Q7Q8Q9', 'typonuc', 'risque', 'fxdate']\n"
     ]
    }
   ],
   "source": [
    "#enquete = pd.read_csv(\"../mathSHS/Données/enquete2011.csv\")\n",
    "url = \"https://raw.githubusercontent.com/emilienschultz/mathSHS/master/Donn%C3%A9es/enquete2011.csv\"\n",
    "enquete = pd.read_csv(url)\n",
    "    \n",
    "print(list(enquete.columns))"
   ]
  },
  {
   "cell_type": "markdown",
   "metadata": {},
   "source": [
    "Variables d'intérêt\n",
    "\n",
    "- confiance dans la science q1_6\n",
    "- intérêt dans la sciences q2\n",
    "- intérêt politique rs15\n",
    "- positionnement politique rs16\n",
    "- religion rs17\n",
    "- niveau d'étude nivet6\n",
    "- revenu rs14\n",
    "- PCS pp18"
   ]
  },
  {
   "cell_type": "markdown",
   "metadata": {},
   "source": [
    "## Tri à plat"
   ]
  },
  {
   "cell_type": "code",
   "execution_count": 4,
   "metadata": {},
   "outputs": [
    {
     "data": {
      "text/html": [
       "<div>\n",
       "<style scoped>\n",
       "    .dataframe tbody tr th:only-of-type {\n",
       "        vertical-align: middle;\n",
       "    }\n",
       "\n",
       "    .dataframe tbody tr th {\n",
       "        vertical-align: top;\n",
       "    }\n",
       "\n",
       "    .dataframe thead th {\n",
       "        text-align: right;\n",
       "    }\n",
       "</style>\n",
       "<table border=\"1\" class=\"dataframe\">\n",
       "  <thead>\n",
       "    <tr style=\"text-align: right;\">\n",
       "      <th></th>\n",
       "      <th>Effectif</th>\n",
       "      <th>Pourcentage (%)</th>\n",
       "    </tr>\n",
       "  </thead>\n",
       "  <tbody>\n",
       "    <tr>\n",
       "      <th>Pas du tout confiance</th>\n",
       "      <td>12.0</td>\n",
       "      <td>1.2</td>\n",
       "    </tr>\n",
       "    <tr>\n",
       "      <th>Plutôt confiance</th>\n",
       "      <td>691.0</td>\n",
       "      <td>69.2</td>\n",
       "    </tr>\n",
       "    <tr>\n",
       "      <th>Plutôt pas confiance</th>\n",
       "      <td>92.0</td>\n",
       "      <td>9.2</td>\n",
       "    </tr>\n",
       "    <tr>\n",
       "      <th>Très confiance</th>\n",
       "      <td>204.0</td>\n",
       "      <td>20.4</td>\n",
       "    </tr>\n",
       "  </tbody>\n",
       "</table>\n",
       "</div>"
      ],
      "text/plain": [
       "                       Effectif  Pourcentage (%)\n",
       "Pas du tout confiance      12.0              1.2\n",
       "Plutôt confiance          691.0             69.2\n",
       "Plutôt pas confiance       92.0              9.2\n",
       "Très confiance            204.0             20.4"
      ]
     },
     "execution_count": 4,
     "metadata": {},
     "output_type": "execute_result"
    }
   ],
   "source": [
    "tri_a_plat(enquete[\"q1_6\"])"
   ]
  },
  {
   "cell_type": "markdown",
   "metadata": {},
   "source": [
    "Attention pour les variables manquantes"
   ]
  },
  {
   "cell_type": "code",
   "execution_count": 13,
   "metadata": {},
   "outputs": [
    {
     "data": {
      "text/html": [
       "<div>\n",
       "<style scoped>\n",
       "    .dataframe tbody tr th:only-of-type {\n",
       "        vertical-align: middle;\n",
       "    }\n",
       "\n",
       "    .dataframe tbody tr th {\n",
       "        vertical-align: top;\n",
       "    }\n",
       "\n",
       "    .dataframe thead th {\n",
       "        text-align: right;\n",
       "    }\n",
       "</style>\n",
       "<table border=\"1\" class=\"dataframe\">\n",
       "  <thead>\n",
       "    <tr style=\"text-align: right;\">\n",
       "      <th></th>\n",
       "      <th>Effectif</th>\n",
       "      <th>Pourcentage (%)</th>\n",
       "    </tr>\n",
       "  </thead>\n",
       "  <tbody>\n",
       "    <tr>\n",
       "      <th>Assez</th>\n",
       "      <td>413.0</td>\n",
       "      <td>40.3</td>\n",
       "    </tr>\n",
       "    <tr>\n",
       "      <th>Beaucoup</th>\n",
       "      <td>147.0</td>\n",
       "      <td>14.3</td>\n",
       "    </tr>\n",
       "    <tr>\n",
       "      <th>Pas du tout</th>\n",
       "      <td>120.0</td>\n",
       "      <td>11.7</td>\n",
       "    </tr>\n",
       "    <tr>\n",
       "      <th>Peu</th>\n",
       "      <td>346.0</td>\n",
       "      <td>33.7</td>\n",
       "    </tr>\n",
       "  </tbody>\n",
       "</table>\n",
       "</div>"
      ],
      "text/plain": [
       "             Effectif  Pourcentage (%)\n",
       "Assez           413.0             40.3\n",
       "Beaucoup        147.0             14.3\n",
       "Pas du tout     120.0             11.7\n",
       "Peu             346.0             33.7"
      ]
     },
     "execution_count": 13,
     "metadata": {},
     "output_type": "execute_result"
    }
   ],
   "source": [
    "tri_a_plat(enquete[\"q2\"])"
   ]
  },
  {
   "cell_type": "markdown",
   "metadata": {},
   "source": [
    "## Recodage"
   ]
  },
  {
   "cell_type": "code",
   "execution_count": 11,
   "metadata": {},
   "outputs": [],
   "source": [
    "recodage = {'Plutôt confiance':\"Confiance\", 'Très confiance':\"Confiance\", 'Plutôt pas confiance':\"Pas confiance\",\n",
    "       'Pas du tout confiance':\"Pas confiance\"}\n",
    "\n",
    "enquete[\"confiance\"] = enquete[\"q1_6\"].replace(recodage).fillna(\"Pas de réponse\")"
   ]
  },
  {
   "cell_type": "code",
   "execution_count": 12,
   "metadata": {},
   "outputs": [
    {
     "data": {
      "text/html": [
       "<div>\n",
       "<style scoped>\n",
       "    .dataframe tbody tr th:only-of-type {\n",
       "        vertical-align: middle;\n",
       "    }\n",
       "\n",
       "    .dataframe tbody tr th {\n",
       "        vertical-align: top;\n",
       "    }\n",
       "\n",
       "    .dataframe thead th {\n",
       "        text-align: right;\n",
       "    }\n",
       "</style>\n",
       "<table border=\"1\" class=\"dataframe\">\n",
       "  <thead>\n",
       "    <tr style=\"text-align: right;\">\n",
       "      <th></th>\n",
       "      <th>Effectif</th>\n",
       "      <th>Pourcentage (%)</th>\n",
       "    </tr>\n",
       "  </thead>\n",
       "  <tbody>\n",
       "    <tr>\n",
       "      <th>Confiance</th>\n",
       "      <td>895.0</td>\n",
       "      <td>87.1</td>\n",
       "    </tr>\n",
       "    <tr>\n",
       "      <th>Pas confiance</th>\n",
       "      <td>104.0</td>\n",
       "      <td>10.1</td>\n",
       "    </tr>\n",
       "    <tr>\n",
       "      <th>Pas de réponse</th>\n",
       "      <td>28.0</td>\n",
       "      <td>2.7</td>\n",
       "    </tr>\n",
       "  </tbody>\n",
       "</table>\n",
       "</div>"
      ],
      "text/plain": [
       "                Effectif  Pourcentage (%)\n",
       "Confiance          895.0             87.1\n",
       "Pas confiance      104.0             10.1\n",
       "Pas de réponse      28.0              2.7"
      ]
     },
     "execution_count": 12,
     "metadata": {},
     "output_type": "execute_result"
    }
   ],
   "source": [
    "tri_a_plat(enquete[\"confiance\"])"
   ]
  },
  {
   "cell_type": "code",
   "execution_count": 15,
   "metadata": {},
   "outputs": [
    {
     "data": {
      "text/html": [
       "<div>\n",
       "<style scoped>\n",
       "    .dataframe tbody tr th:only-of-type {\n",
       "        vertical-align: middle;\n",
       "    }\n",
       "\n",
       "    .dataframe tbody tr th {\n",
       "        vertical-align: top;\n",
       "    }\n",
       "\n",
       "    .dataframe thead th {\n",
       "        text-align: right;\n",
       "    }\n",
       "</style>\n",
       "<table border=\"1\" class=\"dataframe\">\n",
       "  <thead>\n",
       "    <tr style=\"text-align: right;\">\n",
       "      <th></th>\n",
       "      <th>Effectif</th>\n",
       "      <th>Pourcentage (%)</th>\n",
       "    </tr>\n",
       "  </thead>\n",
       "  <tbody>\n",
       "    <tr>\n",
       "      <th>Non</th>\n",
       "      <td>466.0</td>\n",
       "      <td>45.4</td>\n",
       "    </tr>\n",
       "    <tr>\n",
       "      <th>Oui</th>\n",
       "      <td>560.0</td>\n",
       "      <td>54.5</td>\n",
       "    </tr>\n",
       "    <tr>\n",
       "      <th>Pas de réponse</th>\n",
       "      <td>1.0</td>\n",
       "      <td>0.1</td>\n",
       "    </tr>\n",
       "  </tbody>\n",
       "</table>\n",
       "</div>"
      ],
      "text/plain": [
       "                Effectif  Pourcentage (%)\n",
       "Non                466.0             45.4\n",
       "Oui                560.0             54.5\n",
       "Pas de réponse       1.0              0.1"
      ]
     },
     "execution_count": 15,
     "metadata": {},
     "output_type": "execute_result"
    }
   ],
   "source": [
    "recodage = {'Assez':\"Oui\", 'Peu':\"Non\", 'Pas du tout':\"Non\", 'Beaucoup':\"Oui\"}\n",
    "enquete[\"interet\"] = enquete[\"q2\"].replace(recodage).fillna(\"Pas de réponse\")\n",
    "tri_a_plat(enquete[\"interet\"])"
   ]
  },
  {
   "cell_type": "markdown",
   "metadata": {},
   "source": [
    "## Tableau croisé"
   ]
  },
  {
   "cell_type": "code",
   "execution_count": 17,
   "metadata": {},
   "outputs": [
    {
     "data": {
      "text/html": [
       "<div>\n",
       "<style scoped>\n",
       "    .dataframe tbody tr th:only-of-type {\n",
       "        vertical-align: middle;\n",
       "    }\n",
       "\n",
       "    .dataframe tbody tr th {\n",
       "        vertical-align: top;\n",
       "    }\n",
       "\n",
       "    .dataframe thead th {\n",
       "        text-align: right;\n",
       "    }\n",
       "</style>\n",
       "<table border=\"1\" class=\"dataframe\">\n",
       "  <thead>\n",
       "    <tr style=\"text-align: right;\">\n",
       "      <th>interet</th>\n",
       "      <th>Non</th>\n",
       "      <th>Oui</th>\n",
       "      <th>Pas de réponse</th>\n",
       "      <th>All</th>\n",
       "    </tr>\n",
       "    <tr>\n",
       "      <th>rs15</th>\n",
       "      <th></th>\n",
       "      <th></th>\n",
       "      <th></th>\n",
       "      <th></th>\n",
       "    </tr>\n",
       "  </thead>\n",
       "  <tbody>\n",
       "    <tr>\n",
       "      <th>Beaucoup</th>\n",
       "      <td>61 (24.4%)</td>\n",
       "      <td>188 (75.2%)</td>\n",
       "      <td>1 (0.4%)</td>\n",
       "      <td>250</td>\n",
       "    </tr>\n",
       "    <tr>\n",
       "      <th>Pas du tout</th>\n",
       "      <td>111 (68.1%)</td>\n",
       "      <td>52 (31.9%)</td>\n",
       "      <td>0 (0.0%)</td>\n",
       "      <td>163</td>\n",
       "    </tr>\n",
       "    <tr>\n",
       "      <th>Très peu</th>\n",
       "      <td>113 (58.9%)</td>\n",
       "      <td>79 (41.1%)</td>\n",
       "      <td>0 (0.0%)</td>\n",
       "      <td>192</td>\n",
       "    </tr>\n",
       "    <tr>\n",
       "      <th>Un peu</th>\n",
       "      <td>181 (42.9%)</td>\n",
       "      <td>241 (57.1%)</td>\n",
       "      <td>0 (0.0%)</td>\n",
       "      <td>422</td>\n",
       "    </tr>\n",
       "    <tr>\n",
       "      <th>All</th>\n",
       "      <td>466</td>\n",
       "      <td>560</td>\n",
       "      <td>1</td>\n",
       "      <td>1027</td>\n",
       "    </tr>\n",
       "  </tbody>\n",
       "</table>\n",
       "</div>"
      ],
      "text/plain": [
       "interet              Non          Oui Pas de réponse   All\n",
       "rs15                                                      \n",
       "Beaucoup      61 (24.4%)  188 (75.2%)       1 (0.4%)   250\n",
       "Pas du tout  111 (68.1%)   52 (31.9%)       0 (0.0%)   163\n",
       "Très peu     113 (58.9%)   79 (41.1%)       0 (0.0%)   192\n",
       "Un peu       181 (42.9%)  241 (57.1%)       0 (0.0%)   422\n",
       "All                  466          560              1  1027"
      ]
     },
     "execution_count": 17,
     "metadata": {},
     "output_type": "execute_result"
    }
   ],
   "source": [
    "tableau_croise(enquete[\"rs15\"],enquete[\"interet\"])"
   ]
  }
 ],
 "metadata": {
  "kernelspec": {
   "display_name": "Python 3",
   "language": "python",
   "name": "python3"
  },
  "language_info": {
   "codemirror_mode": {
    "name": "ipython",
    "version": 3
   },
   "file_extension": ".py",
   "mimetype": "text/x-python",
   "name": "python",
   "nbconvert_exporter": "python",
   "pygments_lexer": "ipython3",
   "version": "3.7.7"
  }
 },
 "nbformat": 4,
 "nbformat_minor": 4
}
