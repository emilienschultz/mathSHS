{
 "cells": [
  {
   "cell_type": "markdown",
   "metadata": {},
   "source": [
    "# Aléatoire et échantillon\n",
    "\n",
    "Cette séance a pour but de voir un peu plus en détail la relation entre aléatoire, échantillon et statistiques"
   ]
  },
  {
   "cell_type": "markdown",
   "metadata": {},
   "source": [
    "## Importer les éléments nécessaires pour l'analyse"
   ]
  },
  {
   "cell_type": "code",
   "execution_count": null,
   "metadata": {},
   "outputs": [],
   "source": [
    "from numpy import random\n",
    "import pandas as pd\n",
    "import matplotlib.pyplot as plt\n",
    "%matplotlib inline"
   ]
  },
  {
   "cell_type": "markdown",
   "metadata": {},
   "source": [
    "### Créer une variable aléatoire\n",
    "\n",
    "Le jour des élections, une personne a une chance sur deux de se motiver pour aller voter. Comment représenter son comportement ?"
   ]
  },
  {
   "cell_type": "code",
   "execution_count": null,
   "metadata": {},
   "outputs": [],
   "source": [
    "vote = 1\n",
    "p_vote = 0.5\n",
    "n = 1\n",
    "\n",
    "random.binomial(vote,p_vote,n)"
   ]
  },
  {
   "cell_type": "markdown",
   "metadata": {},
   "source": [
    "Il y a 40 personnes dans le village, quel est le comportement ?"
   ]
  },
  {
   "cell_type": "code",
   "execution_count": null,
   "metadata": {},
   "outputs": [],
   "source": [
    "vote = 1\n",
    "p_vote = 0.5\n",
    "n_village = 40\n",
    "\n",
    "random.binomial(vote,p_vote,n_village)"
   ]
  },
  {
   "cell_type": "markdown",
   "metadata": {},
   "source": [
    "On peut le représenter"
   ]
  },
  {
   "cell_type": "code",
   "execution_count": null,
   "metadata": {},
   "outputs": [],
   "source": [
    "votes = random.binomial(vote,p_vote,n_village)\n",
    "plt.hist(votes)"
   ]
  },
  {
   "cell_type": "markdown",
   "metadata": {},
   "source": [
    "Que se passe-t-il si on augmente le nombre de personnes ?"
   ]
  },
  {
   "cell_type": "markdown",
   "metadata": {},
   "source": [
    "### Variable aléatoire composée"
   ]
  },
  {
   "cell_type": "markdown",
   "metadata": {},
   "source": [
    "On s'intéresse au nombre de votes du village. C'est une variable aléatoire qui se construit avec la somme des votes. Quel est son comportement ?"
   ]
  },
  {
   "cell_type": "code",
   "execution_count": null,
   "metadata": {},
   "outputs": [],
   "source": [
    "nombre_votes = sum(random.binomial(vote,p_vote,n_village))\n",
    "nombre_votes"
   ]
  },
  {
   "cell_type": "markdown",
   "metadata": {},
   "source": [
    "Quelle est la distribution associée ? Imaginons qu'on ait 100 villages"
   ]
  },
  {
   "cell_type": "code",
   "execution_count": null,
   "metadata": {},
   "outputs": [],
   "source": [
    "nombre_villages = 1000\n",
    "votes_par_village = []\n",
    "\n",
    "for i in range(0, nombre_villages):\n",
    "    nombre_votes = sum(random.binomial(vote,p_vote,n_village)) # calcul de la variable aléatoire\n",
    "    votes_par_village.append(nombre_votes) # ajouter un village"
   ]
  },
  {
   "cell_type": "markdown",
   "metadata": {},
   "source": [
    "Représenter"
   ]
  },
  {
   "cell_type": "code",
   "execution_count": null,
   "metadata": {},
   "outputs": [],
   "source": [
    "plt.hist(votes_par_village)"
   ]
  },
  {
   "cell_type": "markdown",
   "metadata": {},
   "source": [
    "Quelle est la distribution de cette nouvelle variable ? Que pouvons nous en déduire ?"
   ]
  },
  {
   "cell_type": "markdown",
   "metadata": {},
   "source": [
    "Le langage des probabilités est donc une manière de décrire ces phénomènes."
   ]
  },
  {
   "cell_type": "markdown",
   "metadata": {},
   "source": [
    "## Echantillonnage"
   ]
  },
  {
   "cell_type": "markdown",
   "metadata": {},
   "source": [
    "Créons un tableau d'ages"
   ]
  },
  {
   "cell_type": "code",
   "execution_count": null,
   "metadata": {},
   "outputs": [],
   "source": [
    "tableau = pd.DataFrame(random.randint(0,100,1000),columns=[\"Age\"])\n",
    "tableau[\"Réponse\"] = random.choice([\"Oui\",\"Non\"],1000)\n",
    "tableau.describe()"
   ]
  },
  {
   "cell_type": "markdown",
   "metadata": {},
   "source": [
    "C'est une population finie"
   ]
  },
  {
   "cell_type": "markdown",
   "metadata": {},
   "source": [
    "Maintenant, on peut faire comme si on faisait une enquête en prenant un échantillon avec sample"
   ]
  },
  {
   "cell_type": "code",
   "execution_count": null,
   "metadata": {},
   "outputs": [],
   "source": [
    "enquete = tableau[\"Age\"].sample(100)\n",
    "enquete.describe()"
   ]
  },
  {
   "cell_type": "markdown",
   "metadata": {},
   "source": [
    "Cela n'a pas les mêmes propriétés. La question se pose alors : la moyenne de mon échantillon, elle a quelle distribution ? On peut refaire comme si on tirait 100 échantillons différents"
   ]
  },
  {
   "cell_type": "code",
   "execution_count": null,
   "metadata": {},
   "outputs": [],
   "source": [
    "plt.hist([tableau[\"Age\"].sample(100).mean() for i in range(0,100)])"
   ]
  },
  {
   "cell_type": "markdown",
   "metadata": {},
   "source": [
    "Et on se rend compte que cela va se comporter comme une variable aléatoire avec certaines propriétés..."
   ]
  }
 ],
 "metadata": {
  "kernelspec": {
   "display_name": "Python 3",
   "language": "python",
   "name": "python3"
  },
  "language_info": {
   "codemirror_mode": {
    "name": "ipython",
    "version": 3
   },
   "file_extension": ".py",
   "mimetype": "text/x-python",
   "name": "python",
   "nbconvert_exporter": "python",
   "pygments_lexer": "ipython3",
   "version": "3.7.7"
  }
 },
 "nbformat": 4,
 "nbformat_minor": 4
}
