{
 "cells": [
  {
   "cell_type": "markdown",
   "metadata": {},
   "source": [
    "# Cours 3 - visualiser les données"
   ]
  },
  {
   "cell_type": "markdown",
   "metadata": {},
   "source": [
    "Souvent même avant de calculer des indicateurs, la visualisation permet d'avoir une idée du contenu des données.\n",
    "\n",
    "La visualisation intervient aux différents moments de la réflexion :\n",
    "\n",
    "1. Avant, pour se faire une idée\n",
    "2. Pendant, pour affiner la réflexion\n",
    "3. A la fin, pour présenter les résultats\n",
    "\n",
    "Ce cours vise à utiliser les différentes visualisations avec Pandas pour facilement visualiser les données et comprendre la démarche.\n",
    "\n",
    "L'idée générale est d'avoir des exemples faciles à réutiliser. C'est pour cette raison que nous allons le faire de manière \"appliquée\"."
   ]
  },
  {
   "cell_type": "markdown",
   "metadata": {},
   "source": [
    "## Chargement des données"
   ]
  },
  {
   "cell_type": "code",
   "execution_count": 3,
   "metadata": {},
   "outputs": [],
   "source": [
    "#importer la bibliothèque Pandas (Si elle n'existe pas, il est possible de l'installer avec la commande !pip install pandas)\n",
    "import pandas as pd\n",
    "\n",
    "#chargement des données du questionnaire\n",
    "url = \"https://raw.githubusercontent.com/emilienschultz/mathSHS/master/Donne%CC%81es/questionnaire230920.csv\"\n",
    "donnees = pd.read_csv(url)\n",
    "\n",
    "#sélection des colonnes utiles\n",
    "donnees = donnees[donnees.columns[9:]] \n",
    "donnees.columns = [\"age\",\"internet\",\"concerne_politique\",\"concerne_epidemie\",\n",
    "                  \"concerne_environnement\",\"concerne_mathematiques\",\"concerne_technologie\",\n",
    "                  \"concerne_sucre\",\"concerne_spatial\",\"cinema\",\"livres\",\"confiance_justice\",\n",
    "                  \"confiance_media\",\"confiance_police\",\"confiance_assemblee\",\"confiance_administration\",\n",
    "                  \"confiance_science\",\"confiance_entreprises\",\"confiance_associations\",\"confiance_gouvernement\",\n",
    "                  \"confiance_agences\",\"interet_science\",\"description_science\"]"
   ]
  },
  {
   "cell_type": "markdown",
   "metadata": {},
   "source": [
    "## Quelques éléments pour visualiser avec Python"
   ]
  },
  {
   "cell_type": "markdown",
   "metadata": {},
   "source": [
    "La bibliothèque de base est Matplotlib. Pandas l'utilise pour faire des visualisations. On est alors à utiliser :\n",
    "\n",
    "- Pandas pour faire la première visualisation\n",
    "- Matplotlib pour finaliser et régler les détails\n",
    "\n",
    "Tout peut être fait. Cependant, si une première visualisation est facile, l'affiner peut être (un peu) compliqué.\n",
    "\n",
    "Le mieux est de procéder avec des exemples qu'il est ensuite facile de réutiliser."
   ]
  },
  {
   "cell_type": "markdown",
   "metadata": {},
   "source": [
    "## Chargement de la bibliothèque de visualisation"
   ]
  },
  {
   "cell_type": "code",
   "execution_count": null,
   "metadata": {},
   "outputs": [],
   "source": [
    "#importer les modules pour la visualisation\n",
    "import matplotlib.pyplot as plt\n",
    "%matplotlib inline"
   ]
  },
  {
   "cell_type": "markdown",
   "metadata": {},
   "source": [
    "## Les différentes visualisations\n",
    "\n",
    "On part d'un tableau de données. On s'intéresse à une variable, par exemple l'âge."
   ]
  },
  {
   "cell_type": "code",
   "execution_count": 12,
   "metadata": {},
   "outputs": [
    {
     "data": {
      "text/plain": [
       "18    11\n",
       "17     6\n",
       "19     1\n",
       "Name: age, dtype: int64"
      ]
     },
     "execution_count": 12,
     "metadata": {},
     "output_type": "execute_result"
    }
   ],
   "source": [
    "donnees[\"age\"].value_counts()"
   ]
  },
  {
   "cell_type": "markdown",
   "metadata": {},
   "source": [
    "### Diagramme en barres\n",
    "\n",
    "Idée : représenter chaque modalité par une colonne de taille correspondante"
   ]
  },
  {
   "cell_type": "code",
   "execution_count": 11,
   "metadata": {},
   "outputs": [
    {
     "data": {
      "text/plain": [
       "<matplotlib.axes._subplots.AxesSubplot at 0x2154945dfa0>"
      ]
     },
     "execution_count": 11,
     "metadata": {},
     "output_type": "execute_result"
    },
    {
     "data": {
      "image/png": "[encoded data removed]",
      "text/plain": [
       "<Figure size 432x288 with 1 Axes>"
      ]
     },
     "metadata": {
      "needs_background": "light"
     },
     "output_type": "display_data"
    }
   ],
   "source": [
    "donnees[\"age\"].value_counts().plot(kind=\"bar\")"
   ]
  },
  {
   "cell_type": "markdown",
   "metadata": {},
   "source": [
    "Et si on veut mettre dans l'ordre ? Utilisez la fonction .sort_index()\n",
    "\n",
    "Des barres horizontales ? Utilisez l'option \"barh\"."
   ]
  },
  {
   "cell_type": "markdown",
   "metadata": {},
   "source": [
    "La même avec un titre ?"
   ]
  },
  {
   "cell_type": "code",
   "execution_count": 15,
   "metadata": {},
   "outputs": [
    {
     "data": {
      "text/plain": [
       "<matplotlib.axes._subplots.AxesSubplot at 0x215496a4eb0>"
      ]
     },
     "execution_count": 15,
     "metadata": {},
     "output_type": "execute_result"
    },
    {
     "data": {
      "image/png": "[encoded data removed]",
      "text/plain": [
       "<Figure size 432x288 with 1 Axes>"
      ]
     },
     "metadata": {
      "needs_background": "light"
     },
     "output_type": "display_data"
    }
   ],
   "source": [
    "donnees[\"age\"].value_counts().plot(kind=\"bar\",title=\"Variable âge\")"
   ]
  },
  {
   "cell_type": "markdown",
   "metadata": {},
   "source": [
    "Et des noms d'axes, en utilisant Matplotlib"
   ]
  },
  {
   "cell_type": "code",
   "execution_count": 20,
   "metadata": {},
   "outputs": [
    {
     "data": {
      "text/plain": [
       "Text(0, 0.5, 'Effectif')"
      ]
     },
     "execution_count": 20,
     "metadata": {},
     "output_type": "execute_result"
    },
    {
     "data": {
      "image/png": "[encoded data removed]",
      "text/plain": [
       "<Figure size 432x288 with 1 Axes>"
      ]
     },
     "metadata": {
      "needs_background": "light"
     },
     "output_type": "display_data"
    }
   ],
   "source": [
    "donnees[\"age\"].value_counts().plot(kind=\"bar\",title=\"Variable âge\",color=\"orange\")\n",
    "plt.xlabel(\"Âge\")\n",
    "plt.ylabel(\"Effectif\")"
   ]
  },
  {
   "cell_type": "markdown",
   "metadata": {},
   "source": [
    "## Diagramme circulaire"
   ]
  },
  {
   "cell_type": "code",
   "execution_count": 21,
   "metadata": {},
   "outputs": [
    {
     "data": {
      "text/plain": [
       "<matplotlib.axes._subplots.AxesSubplot at 0x21549803bb0>"
      ]
     },
     "execution_count": 21,
     "metadata": {},
     "output_type": "execute_result"
    },
    {
     "data": {
      "image/png": "[encoded data removed]",
      "text/plain": [
       "<Figure size 432x288 with 1 Axes>"
      ]
     },
     "metadata": {},
     "output_type": "display_data"
    }
   ],
   "source": [
    "donnees[\"age\"].value_counts().plot(kind=\"pie\")"
   ]
  },
  {
   "cell_type": "markdown",
   "metadata": {},
   "source": [
    "## Histogramme"
   ]
  },
  {
   "cell_type": "markdown",
   "metadata": {},
   "source": [
    "La distribution d'une variable, ici le nombre de livre lus"
   ]
  },
  {
   "cell_type": "code",
   "execution_count": 27,
   "metadata": {},
   "outputs": [
    {
     "data": {
      "text/plain": [
       "<matplotlib.axes._subplots.AxesSubplot at 0x2154aa26a90>"
      ]
     },
     "execution_count": 27,
     "metadata": {},
     "output_type": "execute_result"
    },
    {
     "data": {
      "image/png": "[encoded data removed]",
      "text/plain": [
       "<Figure size 432x288 with 1 Axes>"
      ]
     },
     "metadata": {
      "needs_background": "light"
     },
     "output_type": "display_data"
    }
   ],
   "source": [
    "donnees[\"livres\"].hist(bins=5) #bins indique le nombre d'intervalles"
   ]
  },
  {
   "cell_type": "markdown",
   "metadata": {},
   "source": [
    "Avec plein d'options"
   ]
  },
  {
   "cell_type": "code",
   "execution_count": 42,
   "metadata": {},
   "outputs": [
    {
     "data": {
      "image/png": "[encoded data removed]",
      "text/plain": [
       "<Figure size 720x288 with 1 Axes>"
      ]
     },
     "metadata": {
      "needs_background": "light"
     },
     "output_type": "display_data"
    }
   ],
   "source": [
    "donnees[\"livres\"].hist(bins=5,  rwidth=0.9, figsize=(10,4), alpha=0.5) #transparence, largeur des colonnes et taille\n",
    "plt.title(\"Distribution des livres lus\")\n",
    "plt.xlabel(\"Livres lus\")\n",
    "plt.ylabel(\"Effectif\")\n",
    "plt.grid(False) #enlever la grille"
   ]
  },
  {
   "cell_type": "markdown",
   "metadata": {},
   "source": [
    "## Nuage de points"
   ]
  },
  {
   "cell_type": "code",
   "execution_count": 47,
   "metadata": {},
   "outputs": [
    {
     "data": {
      "text/plain": [
       "Index(['age', 'internet', 'concerne_politique', 'concerne_epidemie',\n",
       "       'concerne_environnement', 'concerne_mathematiques',\n",
       "       'concerne_technologie', 'concerne_sucre', 'concerne_spatial', 'cinema',\n",
       "       'livres', 'confiance_justice', 'confiance_media', 'confiance_police',\n",
       "       'confiance_assemblee', 'confiance_administration', 'confiance_science',\n",
       "       'confiance_entreprises', 'confiance_associations',\n",
       "       'confiance_gouvernement', 'confiance_agences', 'interet_science',\n",
       "       'description_science'],\n",
       "      dtype='object')"
      ]
     },
     "execution_count": 47,
     "metadata": {},
     "output_type": "execute_result"
    }
   ],
   "source": [
    "donnees.columns"
   ]
  },
  {
   "cell_type": "code",
   "execution_count": 51,
   "metadata": {},
   "outputs": [
    {
     "data": {
      "text/plain": [
       "Text(0.5, 1.0, 'Nuage de points')"
      ]
     },
     "execution_count": 51,
     "metadata": {},
     "output_type": "execute_result"
    },
    {
     "data": {
      "image/png": "[encoded data removed]",
      "text/plain": [
       "<Figure size 432x288 with 1 Axes>"
      ]
     },
     "metadata": {
      "needs_background": "light"
     },
     "output_type": "display_data"
    }
   ],
   "source": [
    "donnees.plot(kind=\"scatter\",x=\"livres\",y=\"cinema\",alpha = 0.5)\n",
    "plt.title(\"Nuage de points\")"
   ]
  },
  {
   "cell_type": "markdown",
   "metadata": {},
   "source": [
    "Faire la même avec internet et les livres"
   ]
  },
  {
   "cell_type": "markdown",
   "metadata": {},
   "source": [
    "Zoomer sur une partie"
   ]
  },
  {
   "cell_type": "code",
   "execution_count": 64,
   "metadata": {},
   "outputs": [
    {
     "data": {
      "text/plain": [
       "(2.0, 12.0)"
      ]
     },
     "execution_count": 64,
     "metadata": {},
     "output_type": "execute_result"
    },
    {
     "data": {
      "image/png": "[encoded data removed]",
      "text/plain": [
       "<Figure size 432x288 with 1 Axes>"
      ]
     },
     "metadata": {
      "needs_background": "light"
     },
     "output_type": "display_data"
    }
   ],
   "source": [
    "donnees.plot(kind=\"scatter\",x=\"livres\",y=\"cinema\",alpha = 0.5)\n",
    "plt.title(\"Nuage de points\")\n",
    "plt.xlim(2,12)"
   ]
  },
  {
   "cell_type": "markdown",
   "metadata": {},
   "source": [
    "## Tracer une droite"
   ]
  },
  {
   "cell_type": "markdown",
   "metadata": {},
   "source": [
    "Dès que l'on veut manipuler les données de manière plus directe, les fonctions des tableaux sont plus difficiles à utiliser. Pour cette raison, nous utilisons directement les outils de Matplotlib, que nous avons chargé, et qui s'obtiennent avec la commande \"plt.\""
   ]
  },
  {
   "cell_type": "markdown",
   "metadata": {},
   "source": [
    "Un exemple est de tracer une droite avec la fonction plot qui prend comme arguments les abscisses, les ordonnées, et des paramètres"
   ]
  },
  {
   "cell_type": "code",
   "execution_count": 63,
   "metadata": {},
   "outputs": [
    {
     "data": {
      "text/plain": [
       "[<matplotlib.lines.Line2D at 0x2154c4bf730>]"
      ]
     },
     "execution_count": 63,
     "metadata": {},
     "output_type": "execute_result"
    },
    {
     "data": {
      "image/png": "[encoded data removed]",
      "text/plain": [
       "<Figure size 432x288 with 1 Axes>"
      ]
     },
     "metadata": {
      "needs_background": "light"
     },
     "output_type": "display_data"
    }
   ],
   "source": [
    "X = range(0,20) #définir une liste de nombre\n",
    "Y = [] #définir une liste vide\n",
    "\n",
    "for x in X: #faire une boucle sur x\n",
    "    y = 0.5*x+1 #calculer la valeur de la droite\n",
    "    Y.append(y) #ajouter à la liste\n",
    "    \n",
    "plt.plot(X,Y,\".-\") #afficher"
   ]
  },
  {
   "cell_type": "markdown",
   "metadata": {},
   "source": [
    "Exercice : Utiliser la même approche pour tracer une parabole"
   ]
  },
  {
   "cell_type": "markdown",
   "metadata": {},
   "source": [
    "Utiliser Matplotlib pour tracer un diagramme en barre"
   ]
  },
  {
   "cell_type": "code",
   "execution_count": 79,
   "metadata": {},
   "outputs": [
    {
     "data": {
      "text/plain": [
       "Text(0, 0.5, 'Ordonnées')"
      ]
     },
     "execution_count": 79,
     "metadata": {},
     "output_type": "execute_result"
    },
    {
     "data": {
      "image/png": "[encoded data removed]",
      "text/plain": [
       "<Figure size 432x288 with 1 Axes>"
      ]
     },
     "metadata": {
      "needs_background": "light"
     },
     "output_type": "display_data"
    }
   ],
   "source": [
    "plt.bar([1,2,3,4,5],[1,2,3,4,5])\n",
    "plt.title(\"Diagramme en barres\")\n",
    "plt.xlabel(\"Abscisse\")\n",
    "plt.ylabel(\"Ordonnées\")"
   ]
  },
  {
   "cell_type": "markdown",
   "metadata": {},
   "source": [
    "## Deux graphiques sur le même schéma"
   ]
  },
  {
   "cell_type": "markdown",
   "metadata": {},
   "source": [
    "Il est possible de tracer plusieurs graphiques ensemble. La composition peut dans certains cas être un peu compliquées. Mais l'idée générale est :\n",
    "\n",
    "- définir une nouvelle figure vide\n",
    "- ajouter des graphiques"
   ]
  },
  {
   "cell_type": "code",
   "execution_count": 84,
   "metadata": {},
   "outputs": [
    {
     "data": {
      "text/plain": [
       "2    3\n",
       "3    9\n",
       "4    5\n",
       "5    1\n",
       "Name: confiance_police, dtype: int64"
      ]
     },
     "execution_count": 84,
     "metadata": {},
     "output_type": "execute_result"
    }
   ],
   "source": [
    "donnees[\"confiance_police\"].value_counts().sort_index()"
   ]
  },
  {
   "cell_type": "code",
   "execution_count": 85,
   "metadata": {},
   "outputs": [
    {
     "data": {
      "text/plain": [
       "3    1\n",
       "4    8\n",
       "5    9\n",
       "Name: confiance_science, dtype: int64"
      ]
     },
     "execution_count": 85,
     "metadata": {},
     "output_type": "execute_result"
    }
   ],
   "source": [
    "donnees[\"confiance_science\"].value_counts().sort_index()"
   ]
  },
  {
   "cell_type": "code",
   "execution_count": 101,
   "metadata": {},
   "outputs": [
    {
     "data": {
      "text/plain": [
       "Text(0, 0.5, 'Nombre de réponses')"
      ]
     },
     "execution_count": 101,
     "metadata": {},
     "output_type": "execute_result"
    },
    {
     "data": {
      "image/png": "[encoded data removed]",
      "text/plain": [
       "<Figure size 360x576 with 2 Axes>"
      ]
     },
     "metadata": {
      "needs_background": "light"
     },
     "output_type": "display_data"
    }
   ],
   "source": [
    "fig,ax = plt.subplots(2,1,figsize=(5,8))\n",
    "\n",
    "ax[0].bar([1,2,3,4,5],[0,3,9,5,1])\n",
    "ax[0].set_title(\"Confiance dans la police\")\n",
    "ax[0].set_ylabel(\"Nombre de réponses\")\n",
    "\n",
    "\n",
    "ax[1].bar([1,2,3,4,5],[0,0,1,8,9])\n",
    "ax[1].set_title(\"Confiance dans la science\")\n",
    "ax[1].set_xlabel(\"Réponses\")\n",
    "ax[1].set_ylabel(\"Nombre de réponses\")"
   ]
  },
  {
   "cell_type": "markdown",
   "metadata": {},
   "source": [
    "Exercice : rajouter des variables"
   ]
  },
  {
   "cell_type": "markdown",
   "metadata": {},
   "source": [
    "## Sauvegarder une figure"
   ]
  },
  {
   "cell_type": "markdown",
   "metadata": {},
   "source": [
    "Il suffit de rajouter plt.savefig(\"NOM.png\") à la fin ..."
   ]
  },
  {
   "cell_type": "markdown",
   "metadata": {},
   "source": [
    "## En guise de conclusion"
   ]
  },
  {
   "cell_type": "markdown",
   "metadata": {},
   "source": [
    "Créer des visualisations très finalisées peut prendre du temps. Ce n'est pas l'objectif de ce cours. L'objectif est d'avoir une idée de ce qui est possible, de savoir réaliser quelques visualisations de base et de pouvoir réfléchir à vos besoins pour le traitement en groupe."
   ]
  }
 ],
 "metadata": {
  "kernelspec": {
   "display_name": "Python 3",
   "language": "python",
   "name": "python3"
  },
  "language_info": {
   "codemirror_mode": {
    "name": "ipython",
    "version": 3
   },
   "file_extension": ".py",
   "mimetype": "text/x-python",
   "name": "python",
   "nbconvert_exporter": "python",
   "pygments_lexer": "ipython3",
   "version": "3.8.3"
  }
 },
 "nbformat": 4,
 "nbformat_minor": 4
}
