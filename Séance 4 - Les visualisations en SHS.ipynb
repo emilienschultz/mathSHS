{
 "cells": [
  {
   "cell_type": "markdown",
   "metadata": {},
   "source": [
    "# Cours 3 - visualiser les données"
   ]
  },
  {
   "cell_type": "markdown",
   "metadata": {},
   "source": [
    "Souvent même avant de calculer des indicateurs, la visualisation permet d'avoir une idée du contenu des données.\n",
    "\n",
    "La visualisation intervient aux différents moments de la réflexion :\n",
    "\n",
    "1. **Avant**, pour se faire une idée\n",
    "2. **Pendant**, pour affiner la réflexion\n",
    "3. **A la fin**, pour présenter les résultats\n",
    "\n",
    "Ce cours vise à utiliser les différentes visualisations avec Pandas pour facilement visualiser les données et comprendre la démarche.\n",
    "\n",
    "L'idée générale est d'avoir des exemples faciles à réutiliser. C'est pour cette raison que nous allons le faire de manière \"appliquée\"."
   ]
  },
  {
   "cell_type": "markdown",
   "metadata": {},
   "source": [
    "## Chargement des données\n",
    "\n",
    "Ces étapes ne sont pas nécessaire à comprendre en détail et servent à charger les données"
   ]
  },
  {
   "cell_type": "code",
   "execution_count": 1,
   "metadata": {},
   "outputs": [],
   "source": [
    "#importer la bibliothèque Pandas (Si elle n'existe pas, il est possible de l'installer avec la commande !pip install pandas)\n",
    "import pandas as pd\n",
    "\n",
    "#chargement des données du questionnaire\n",
    "url = \"https://raw.githubusercontent.com/emilienschultz/mathSHS/master/Donn%C3%A9es/questionnaire230920.csv\"\n",
    "donnees = pd.read_csv(url)\n",
    "\n",
    "#sélection des colonnes utiles\n",
    "donnees = donnees[donnees.columns[9:]] \n",
    "donnees.columns = [\"age\",\"internet\",\"concerne_politique\",\"concerne_epidemie\",\n",
    "                  \"concerne_environnement\",\"concerne_mathematiques\",\"concerne_technologie\",\n",
    "                  \"concerne_sucre\",\"concerne_spatial\",\"cinema\",\"livres\",\"confiance_justice\",\n",
    "                  \"confiance_media\",\"confiance_police\",\"confiance_assemblee\",\"confiance_administration\",\n",
    "                  \"confiance_science\",\"confiance_entreprises\",\"confiance_associations\",\"confiance_gouvernement\",\n",
    "                  \"confiance_agences\",\"interet_science\",\"description_science\"]"
   ]
  },
  {
   "cell_type": "code",
   "execution_count": 3,
   "metadata": {},
   "outputs": [
    {
     "data": {
      "text/html": [
       "<div>\n",
       "<style scoped>\n",
       "    .dataframe tbody tr th:only-of-type {\n",
       "        vertical-align: middle;\n",
       "    }\n",
       "\n",
       "    .dataframe tbody tr th {\n",
       "        vertical-align: top;\n",
       "    }\n",
       "\n",
       "    .dataframe thead th {\n",
       "        text-align: right;\n",
       "    }\n",
       "</style>\n",
       "<table border=\"1\" class=\"dataframe\">\n",
       "  <thead>\n",
       "    <tr style=\"text-align: right;\">\n",
       "      <th>concerne_politique</th>\n",
       "      <th>2</th>\n",
       "      <th>3</th>\n",
       "      <th>4</th>\n",
       "      <th>5</th>\n",
       "      <th>All</th>\n",
       "    </tr>\n",
       "    <tr>\n",
       "      <th>confiance_science</th>\n",
       "      <th></th>\n",
       "      <th></th>\n",
       "      <th></th>\n",
       "      <th></th>\n",
       "      <th></th>\n",
       "    </tr>\n",
       "  </thead>\n",
       "  <tbody>\n",
       "    <tr>\n",
       "      <th>3</th>\n",
       "      <td>0 (0.0%)</td>\n",
       "      <td>0 (0.0%)</td>\n",
       "      <td>1 (100.0%)</td>\n",
       "      <td>0 (0.0%)</td>\n",
       "      <td>1</td>\n",
       "    </tr>\n",
       "    <tr>\n",
       "      <th>4</th>\n",
       "      <td>0 (0.0%)</td>\n",
       "      <td>2 (25.0%)</td>\n",
       "      <td>3 (37.5%)</td>\n",
       "      <td>3 (37.5%)</td>\n",
       "      <td>8</td>\n",
       "    </tr>\n",
       "    <tr>\n",
       "      <th>5</th>\n",
       "      <td>3 (33.3%)</td>\n",
       "      <td>0 (0.0%)</td>\n",
       "      <td>1 (11.1%)</td>\n",
       "      <td>5 (55.6%)</td>\n",
       "      <td>9</td>\n",
       "    </tr>\n",
       "    <tr>\n",
       "      <th>All</th>\n",
       "      <td>3</td>\n",
       "      <td>2</td>\n",
       "      <td>5</td>\n",
       "      <td>8</td>\n",
       "      <td>18</td>\n",
       "    </tr>\n",
       "  </tbody>\n",
       "</table>\n",
       "</div>"
      ],
      "text/plain": [
       "concerne_politique          2          3           4          5  All\n",
       "confiance_science                                                   \n",
       "3                    0 (0.0%)   0 (0.0%)  1 (100.0%)   0 (0.0%)    1\n",
       "4                    0 (0.0%)  2 (25.0%)   3 (37.5%)  3 (37.5%)    8\n",
       "5                   3 (33.3%)   0 (0.0%)   1 (11.1%)  5 (55.6%)    9\n",
       "All                         3          2           5          8   18"
      ]
     },
     "execution_count": 3,
     "metadata": {},
     "output_type": "execute_result"
    }
   ],
   "source": [
    "import pandas as pd\n",
    "pd.crosstab(donnees[\"confiance_science\"],donnees[\"concerne_politique\"])\n",
    "\n",
    "#Création d'une fonction qui fait un tableau croisé\n",
    "def tableau_croise(c1,c2):\n",
    "    t_absolu = pd.crosstab(c1,c2,margins=True)\n",
    "    t_pourcentage = pd.crosstab(c1,c2)\\\n",
    "            .apply(lambda x: 100*x/sum(x),axis=1)\n",
    "    t = t_absolu.copy()\n",
    "    for i in range(0,t_pourcentage.shape[0]):\n",
    "        for j in range(0,t_pourcentage.shape[1]):\n",
    "            t.iloc[i,j] = str(t_absolu.iloc[i,j]) \\\n",
    "            +\" (\"+str(round(t_pourcentage.iloc[i,j],1))+\"%)\"\n",
    "    return t\n",
    "\n",
    "tableau_croise(donnees[\"confiance_science\"],donnees[\"concerne_politique\"])"
   ]
  },
  {
   "cell_type": "markdown",
   "metadata": {},
   "source": [
    "## Quelques éléments pour visualiser avec Python"
   ]
  },
  {
   "cell_type": "markdown",
   "metadata": {},
   "source": [
    "La bibliothèque de base est Matplotlib. Pandas l'utilise pour faire des visualisations. On est alors amené à utiliser :\n",
    "\n",
    "- Pandas pour faire la première visualisation\n",
    "- Matplotlib pour finaliser et régler les détails\n",
    "\n",
    "Tout peut être fait. Cependant, si une première visualisation est facile, l'affiner peut être (un peu) compliqué.\n",
    "\n",
    "Le mieux est de procéder avec des exemples qu'il est ensuite facile de réutiliser.\n",
    "\n",
    "**L'objectif est d'avoir des exemples que vous pouvez réutiliser**"
   ]
  },
  {
   "cell_type": "markdown",
   "metadata": {},
   "source": [
    "## Chargement de la bibliothèque de visualisation\n",
    "\n",
    "Ce sera la même chose à chaque fois"
   ]
  },
  {
   "cell_type": "code",
   "execution_count": null,
   "metadata": {},
   "outputs": [],
   "source": [
    "#importer les modules pour la visualisation\n",
    "import matplotlib.pyplot as plt\n",
    "%matplotlib inline"
   ]
  },
  {
   "cell_type": "markdown",
   "metadata": {},
   "source": [
    "## Les différentes visualisations\n",
    "\n",
    "On part d'un tableau de données. On prend les données du sondage de la séance 2. On s'intéresse à une variable, par exemple l'âge."
   ]
  },
  {
   "cell_type": "code",
   "execution_count": null,
   "metadata": {},
   "outputs": [],
   "source": [
    "donnees[\"age\"].value_counts()"
   ]
  },
  {
   "cell_type": "markdown",
   "metadata": {},
   "source": [
    "### Diagramme en barres\n",
    "\n",
    "Idée : représenter chaque modalité par une colonne de taille correspondante"
   ]
  },
  {
   "cell_type": "code",
   "execution_count": null,
   "metadata": {},
   "outputs": [],
   "source": [
    "donnees[\"age\"].value_counts().plot(kind=\"bar\")"
   ]
  },
  {
   "cell_type": "markdown",
   "metadata": {},
   "source": [
    "Et si on veut mettre dans l'ordre ? Utilisez la fonction .sort_index()"
   ]
  },
  {
   "cell_type": "code",
   "execution_count": null,
   "metadata": {},
   "outputs": [],
   "source": [
    "donnees[\"age\"].value_counts().sort_index()"
   ]
  },
  {
   "cell_type": "markdown",
   "metadata": {},
   "source": [
    "Et avec la visualisation"
   ]
  },
  {
   "cell_type": "code",
   "execution_count": null,
   "metadata": {},
   "outputs": [],
   "source": [
    "donnees[\"age\"].value_counts().sort_index().plot(kind=\"bar\")"
   ]
  },
  {
   "cell_type": "markdown",
   "metadata": {},
   "source": [
    "Des barres horizontales ? Utilisez l'option \"barh\"."
   ]
  },
  {
   "cell_type": "code",
   "execution_count": null,
   "metadata": {},
   "outputs": [],
   "source": [
    "donnees[\"age\"].value_counts().sort_index().plot(kind=\"barh\")"
   ]
  },
  {
   "cell_type": "markdown",
   "metadata": {},
   "source": [
    "La même avec un titre ?"
   ]
  },
  {
   "cell_type": "code",
   "execution_count": null,
   "metadata": {},
   "outputs": [],
   "source": [
    "donnees[\"age\"].value_counts().sort_index().plot(kind=\"bar\",title=\"Variable âge\")"
   ]
  },
  {
   "cell_type": "markdown",
   "metadata": {},
   "source": [
    "Et des noms d'axes, en utilisant Matplotlib"
   ]
  },
  {
   "cell_type": "code",
   "execution_count": null,
   "metadata": {},
   "outputs": [],
   "source": [
    "donnees[\"age\"].value_counts().sort_index().plot(kind=\"bar\",title=\"Variable âge\",color=\"orange\")\n",
    "plt.xlabel(\"Âge\")\n",
    "plt.ylabel(\"Effectif\")"
   ]
  },
  {
   "cell_type": "markdown",
   "metadata": {},
   "source": [
    "## Diagramme circulaire"
   ]
  },
  {
   "cell_type": "code",
   "execution_count": null,
   "metadata": {},
   "outputs": [],
   "source": [
    "donnees[\"age\"].value_counts().plot(kind=\"pie\")"
   ]
  },
  {
   "cell_type": "markdown",
   "metadata": {},
   "source": [
    "## Histogramme"
   ]
  },
  {
   "cell_type": "markdown",
   "metadata": {},
   "source": [
    "La distribution d'une variable, ici le nombre de livre lus. L'option bins indique le nombre d'intervalles de découpage  (le nombre de colonnes)"
   ]
  },
  {
   "cell_type": "code",
   "execution_count": null,
   "metadata": {},
   "outputs": [],
   "source": [
    "donnees[\"livres\"].plot(kind=\"hist\", bins=5)"
   ]
  },
  {
   "cell_type": "markdown",
   "metadata": {},
   "source": [
    "Il y a bien 5 colonnes"
   ]
  },
  {
   "cell_type": "markdown",
   "metadata": {},
   "source": [
    "Avec plein d'options : rwidth pour la largeur des colonnes (entre 0 et 1), figsize pour la taille de la figure et alpha pour la transparence"
   ]
  },
  {
   "cell_type": "code",
   "execution_count": null,
   "metadata": {},
   "outputs": [],
   "source": [
    "donnees[\"livres\"].plot(kind=\"hist\", bins=5,  rwidth=0.9, figsize=(10,4), alpha=0.5)\n",
    "plt.title(\"Distribution des livres lus\")\n",
    "plt.xlabel(\"Livres lus\")\n",
    "plt.ylabel(\"Effectif\")\n",
    "plt.grid(False) #enlever la grille"
   ]
  },
  {
   "cell_type": "markdown",
   "metadata": {},
   "source": [
    "## Nuage de points"
   ]
  },
  {
   "cell_type": "markdown",
   "metadata": {},
   "source": [
    "Il faut préciser les abscisses avec x et les ordonnées avec y"
   ]
  },
  {
   "cell_type": "code",
   "execution_count": null,
   "metadata": {},
   "outputs": [],
   "source": [
    "donnees.plot(kind=\"scatter\",x=\"livres\",y=\"cinema\",alpha = 0.5)\n",
    "plt.title(\"Nuage de points\")"
   ]
  },
  {
   "cell_type": "markdown",
   "metadata": {},
   "source": [
    "Faire la même avec internet et les livres"
   ]
  },
  {
   "cell_type": "code",
   "execution_count": null,
   "metadata": {},
   "outputs": [],
   "source": [
    "donnees.plot(kind=\"scatter\",x=\"livres\",y=\"internet\",alpha = 0.5)\n",
    "plt.title(\"Nuage de points\")"
   ]
  },
  {
   "cell_type": "markdown",
   "metadata": {},
   "source": [
    "Zoomer sur une partie : abscisses entre 2 et 12, et ordonnées entre 0 et 10"
   ]
  },
  {
   "cell_type": "code",
   "execution_count": null,
   "metadata": {},
   "outputs": [],
   "source": [
    "donnees.plot(kind=\"scatter\",x=\"livres\",y=\"cinema\",alpha = 0.5)\n",
    "plt.title(\"Nuage de points\")\n",
    "plt.xlim(2,12)\n",
    "plt.ylim(0,10)"
   ]
  },
  {
   "cell_type": "markdown",
   "metadata": {},
   "source": [
    "## ------ fin de la séance 4, la suite peut être faite en plus ----"
   ]
  },
  {
   "cell_type": "markdown",
   "metadata": {},
   "source": [
    "## Tracer une droite"
   ]
  },
  {
   "cell_type": "markdown",
   "metadata": {},
   "source": [
    "Dès que l'on veut manipuler les données de manière plus directe, les fonctions des tableaux sont plus difficiles à utiliser. Pour cette raison, nous utilisons directement les outils de Matplotlib, que nous avons chargé, et qui s'obtiennent avec la commande \"plt.\""
   ]
  },
  {
   "cell_type": "markdown",
   "metadata": {},
   "source": [
    "Un exemple est de tracer une droite avec la fonction plot qui prend comme arguments les abscisses, les ordonnées, et des paramètres"
   ]
  },
  {
   "cell_type": "code",
   "execution_count": null,
   "metadata": {},
   "outputs": [],
   "source": [
    "X = range(0,20) #définir une liste de nombre\n",
    "Y = [] #définir une liste vide\n",
    "\n",
    "for x in X: #faire une boucle sur x\n",
    "    y = 0.5*x+1 #calculer la valeur de la droite\n",
    "    Y.append(y) #ajouter à la liste\n",
    "    \n",
    "plt.plot(X,Y,\".-\") #afficher"
   ]
  },
  {
   "cell_type": "markdown",
   "metadata": {},
   "source": [
    "Exercice : Utiliser la même approche pour tracer une parabole"
   ]
  },
  {
   "cell_type": "markdown",
   "metadata": {},
   "source": [
    "Utiliser Matplotlib pour tracer un diagramme en barre"
   ]
  },
  {
   "cell_type": "code",
   "execution_count": null,
   "metadata": {},
   "outputs": [],
   "source": [
    "plt.bar([1,2,3,4,5],[1,2,3,4,5])\n",
    "plt.title(\"Diagramme en barres\")\n",
    "plt.xlabel(\"Abscisse\")\n",
    "plt.ylabel(\"Ordonnées\")"
   ]
  },
  {
   "cell_type": "markdown",
   "metadata": {},
   "source": [
    "## Deux graphiques sur le même schéma"
   ]
  },
  {
   "cell_type": "markdown",
   "metadata": {},
   "source": [
    "Il est possible de tracer plusieurs graphiques ensemble. La composition peut dans certains cas être un peu compliquées. Mais l'idée générale est :\n",
    "\n",
    "- définir une nouvelle figure vide\n",
    "- ajouter des graphiques"
   ]
  },
  {
   "cell_type": "code",
   "execution_count": null,
   "metadata": {},
   "outputs": [],
   "source": [
    "donnees[\"confiance_police\"].value_counts().sort_index()"
   ]
  },
  {
   "cell_type": "code",
   "execution_count": null,
   "metadata": {},
   "outputs": [],
   "source": [
    "donnees[\"confiance_science\"].value_counts().sort_index()"
   ]
  },
  {
   "cell_type": "code",
   "execution_count": null,
   "metadata": {},
   "outputs": [],
   "source": [
    "fig,ax = plt.subplots(2,1,figsize=(5,8))\n",
    "\n",
    "ax[0].bar([1,2,3,4,5],[0,3,9,5,1])\n",
    "ax[0].set_title(\"Confiance dans la police\")\n",
    "ax[0].set_ylabel(\"Nombre de réponses\")\n",
    "\n",
    "\n",
    "ax[1].bar([1,2,3,4,5],[0,0,1,8,9])\n",
    "ax[1].set_title(\"Confiance dans la science\")\n",
    "ax[1].set_xlabel(\"Réponses\")\n",
    "ax[1].set_ylabel(\"Nombre de réponses\")"
   ]
  },
  {
   "cell_type": "markdown",
   "metadata": {},
   "source": [
    "Exercice : rajouter des variables"
   ]
  },
  {
   "cell_type": "markdown",
   "metadata": {},
   "source": [
    "## Sauvegarder une figure"
   ]
  },
  {
   "cell_type": "markdown",
   "metadata": {},
   "source": [
    "Il suffit de rajouter plt.savefig(\"NOM.png\") à la fin ..."
   ]
  },
  {
   "cell_type": "markdown",
   "metadata": {},
   "source": [
    "## En guise de conclusion"
   ]
  },
  {
   "cell_type": "markdown",
   "metadata": {},
   "source": [
    "Créer des visualisations très finalisées peut prendre du temps. Ce n'est pas l'objectif de ce cours. L'objectif est d'avoir une idée de ce qui est possible, de savoir réaliser quelques visualisations de base et de pouvoir réfléchir à vos besoins pour le traitement en groupe."
   ]
  },
  {
   "cell_type": "markdown",
   "metadata": {},
   "source": [
    "## Visualiser une gaussienne"
   ]
  },
  {
   "cell_type": "code",
   "execution_count": null,
   "metadata": {},
   "outputs": [],
   "source": [
    "import math\n",
    "def gaussian(x, s, m):\n",
    "          return 1./(s*math.sqrt(2*math.pi))*np.exp(-alpha*(x - m)**2/(2*s**2))\n"
   ]
  }
 ],
 "metadata": {
  "kernelspec": {
   "display_name": "Python 3",
   "language": "python",
   "name": "python3"
  },
  "language_info": {
   "codemirror_mode": {
    "name": "ipython",
    "version": 3
   },
   "file_extension": ".py",
   "mimetype": "text/x-python",
   "name": "python",
   "nbconvert_exporter": "python",
   "pygments_lexer": "ipython3",
   "version": "3.7.7"
  }
 },
 "nbformat": 4,
 "nbformat_minor": 4
}
